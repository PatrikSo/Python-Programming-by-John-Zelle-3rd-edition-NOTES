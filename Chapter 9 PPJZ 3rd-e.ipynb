{
 "cells": [
  {
   "cell_type": "markdown",
   "metadata": {},
   "source": [
    "# Chapter 9\n",
    "\n",
    "Simulation and Design.\n",
    "\n",
    "- Potential applications of simulation as a way to solve real-world problems\n",
    "- Understanding psuedo-random numbers and their application in Monte Carlo Simulations\n",
    "- Understanding/applying top-down and spiral design in complex programs\n",
    "- Unit testing and its usage in testing/simulation"
   ]
  },
  {
   "cell_type": "markdown",
   "metadata": {},
   "source": [
    "-----------------------------------------------------\n",
    "- Many simulations require events to occur with a certain likelyhood\n",
    "- Monte Carlo algorithms:\n",
    "    - results of the algorithm depend on 'chance' probabilities\n",
    "- psuedo-random generators:\n",
    "    - numbers generated seemingly at random but if smae input is given, smae output is displayed (not random)\n",
    "-----------------------------------------------------"
   ]
  },
  {
   "cell_type": "code",
   "execution_count": 8,
   "metadata": {},
   "outputs": [
    {
     "name": "stdout",
     "output_type": "stream",
     "text": [
      "1\n",
      "4\n",
      "3\n",
      "4\n",
      "5\n",
      "2\n"
     ]
    }
   ],
   "source": [
    "from random import randrange\n",
    "# selects random number from a specified range\n",
    "\n",
    "for i in range(6):\n",
    "    print(randrange(1,6))"
   ]
  },
  {
   "cell_type": "code",
   "execution_count": 9,
   "metadata": {},
   "outputs": [
    {
     "name": "stdout",
     "output_type": "stream",
     "text": [
      "85\n",
      "20\n",
      "65\n",
      "10\n",
      "85\n",
      "40\n"
     ]
    }
   ],
   "source": [
    "from random import randrange\n",
    "# selects random number thats is a multiple of the third parameter\n",
    "\n",
    "for i in range(6):\n",
    "    print(randrange(5, 105, 5))"
   ]
  },
  {
   "cell_type": "code",
   "execution_count": 11,
   "metadata": {},
   "outputs": [
    {
     "data": {
      "text/plain": [
       "0.16919208058416801"
      ]
     },
     "execution_count": 11,
     "metadata": {},
     "output_type": "execute_result"
    }
   ],
   "source": [
    "from random import random\n",
    "#generates a random number between 0 and 1\n",
    "\n",
    "random()"
   ]
  },
  {
   "cell_type": "markdown",
   "metadata": {},
   "source": [
    "-----------------------------------------------------\n",
    "\n",
    "- top-down design:\n",
    "    - Design strategy where you get the big problem and split it into smaller problems, then split those, so on\n",
    "        - can form a structure chart or module hiecharchy chart\n",
    "    - Second-Level design:\n",
    "        - second stage of top-down design, now we explore the solving of the smaller problems\n",
    "    - Third-Level design:\n",
    "        - third stage, explore solving the smaller problems of the smaller problems\n",
    "\n",
    "-----------------------------------------------------"
   ]
  },
  {
   "cell_type": "markdown",
   "metadata": {},
   "source": [
    "-----------------------------------------------------\n",
    "\n",
    "- interface/signature of a function:\n",
    "    - function name, parameters, and expected return\n",
    "- Structure chart/module hierarchy chart:\n",
    "    - defining all of the signatures and interfaces needed in a given program\n",
    "        - designing process\n",
    "- Abstraction:\n",
    "    - determining the important chaarcteristics of something, ignoring other details \n",
    "        - Fundamental design tool\n",
    "-----------------------------------------------------"
   ]
  },
  {
   "cell_type": "code",
   "execution_count": 14,
   "metadata": {},
   "outputs": [
    {
     "name": "stdout",
     "output_type": "stream",
     "text": [
      "This program simulates a game of racquetball between two\n",
      "players called \"A\" and \"B\". The ability of each player is\n",
      "indicated by a probability (a number between 0 and 1) that\n",
      "the player wins the point when serving. Player A always\n",
      "has the first serve.\n",
      "What is the prob. player A wins a serve? 0.5\n",
      "What is the prob. player B wins a serve? 0.5\n",
      "how many games to simulate? 10\n",
      "\n",
      "Games simulated: 10\n",
      "Wins for A: 6 (60.0%)\n",
      "Wins for B: 4 (40.0%)\n"
     ]
    }
   ],
   "source": [
    "#racquetball simulation (example dirctly from book, with added notes)\n",
    "\n",
    "from random import random\n",
    "\n",
    "# top-down design, our main problem (simulating racquetball) is split into smaller problems in main()\n",
    "def main():\n",
    "    printIntro()\n",
    "    probA, probB, n = getInputs()\n",
    "    winsA, winsB = simNGames(n, probA, probB)\n",
    "    printSummary(winsA, winsB)\n",
    "\n",
    "# second-level design, solving each of the smaller problems (the undefined functions)\n",
    "def printIntro():\n",
    "    print(\"This program simulates a game of racquetball between two\")\n",
    "    print('players called \"A\" and \"B\". The ability of each player is')\n",
    "    print(\"indicated by a probability (a number between 0 and 1) that\")\n",
    "    print(\"the player wins the point when serving. Player A always\")\n",
    "    print(\"has the first serve.\")\n",
    "    \n",
    "def getInputs():\n",
    "    #Returns the three simulation parameters\n",
    "    a = float(input(\"What is the prob. player A wins a serve? \"))\n",
    "    b = float(input(\"What is the prob. player B wins a serve? \"))\n",
    "    n = int(input(\"how many games to simulate? \"))\n",
    "    return a, b, n\n",
    "\n",
    "def simNGames(n, probA, probB):\n",
    "    #Simulates n games of racquetball between players whose abilities are represented by the probability\n",
    "    # of winning a serve.\n",
    "    #Returns number of wins for A and B\n",
    "    winsA = winsB = 0\n",
    "    for i in range(n):\n",
    "        scoreA, scoreB = simOneGame(probA, probB)\n",
    "        if scoreA > scoreB:\n",
    "            winsA = winsA + 1\n",
    "        else:\n",
    "            winsB = winsB + 1\n",
    "    return winsA, winsB\n",
    "\n",
    "# third-level design, need this function to solve simNGames problem\n",
    "def simOneGame(probA, probB):\n",
    "    #Simulates a game of racquetball between players whose abilities are represented by the probability\n",
    "    # of winning a serve.\n",
    "    #Returns final scores for A and B\n",
    "    serving = \"A\"\n",
    "    scoreA = 0\n",
    "    scoreB = 0\n",
    "    while not gameOver(scoreA, scoreB):\n",
    "        if serving == 'A':\n",
    "            if random() < probA:\n",
    "                scoreA = scoreA + 1\n",
    "            else:\n",
    "                serving = \"B\"\n",
    "        else:\n",
    "            if random() < probB:\n",
    "                scoreB = scoreB + 1\n",
    "            else:\n",
    "                serving = \"A\"\n",
    "    return scoreA, scoreB\n",
    "\n",
    "def gameOver(a, b):\n",
    "    #a and b represent scores for a racquetball game\n",
    "    #Returns True if the game is over, False otherwise.\n",
    "    return a==15 or b==15\n",
    "\n",
    "def printSummary(winsA, winsB):\n",
    "    # Prints a summary of wins for each player.\n",
    "    n = winsA + winsB\n",
    "    print(\"\\nGames simulated:\", n)\n",
    "    print(\"Wins for A: {0} ({1:0.1%})\".format(winsA, winsA/n))\n",
    "    print(\"Wins for B: {0} ({1:0.1%})\".format(winsB, winsB/n))\n",
    "    \n",
    "if __name__ == '__main__': main()"
   ]
  },
  {
   "cell_type": "markdown",
   "metadata": {},
   "source": [
    "-----------------------------------------------------\n",
    "\n",
    "- Step-wise refinement:\n",
    "    - 1. Express the algorithm as a series of smaller problems\n",
    "    - 2. Develop an interface for each of the small problems\n",
    "    - 3. Detail the algorithm by expressing it in terms of its interfaces with the smaller problems\n",
    "    - 4. Repeat the process for each smaller problem\n",
    "    \n",
    "    - essentially top-down design\n",
    "\n",
    "- Unit-testing:\n",
    "    - testing each piece of each problem, bottom up\n",
    "\n",
    "-----------------------------------------------------"
   ]
  },
  {
   "cell_type": "markdown",
   "metadata": {},
   "source": [
    "- Prototype:\n",
    "    - starting with a simple version of your program and building upon it\n",
    "    - spiral development process"
   ]
  },
  {
   "cell_type": "markdown",
   "metadata": {},
   "source": [
    "## Chapter 9 Summary\n",
    "\n",
    "- Computer Simulation is a powerful tool for handling real-world processes\n",
    "    - Simulation techniques relying on probabilistic/chance events are Monte Carlo simulations\n",
    "    - Computers use psuedo-random numbers to perform Monte Carlo simulations\n",
    "- Top-Down design is a technique for designing complex programs. Basic steps:\n",
    "    - Express and algorithm in terms of smaller problems\n",
    "    - Develop an interface for each of the smaller problems\n",
    "    - Express the aglorithm in terms of its interfaces with the smaller problems\n",
    "    - Repeat the process for each of the smaller problems\n",
    "- Unit-Testing is the process of trying out each component of a larger program independently\n",
    "    - Used with bottom-up implementation for larger complex programs\n",
    "- Spiral development is the process of creating a prototype (simple version) of program and building upon it.\n",
    "    - prototyping and spiral development are often useful in conjunction with top-down design\n",
    "- Design is a combo of art and design."
   ]
  }
 ],
 "metadata": {
  "kernelspec": {
   "display_name": "Python 3",
   "language": "python",
   "name": "python3"
  },
  "language_info": {
   "codemirror_mode": {
    "name": "ipython",
    "version": 3
   },
   "file_extension": ".py",
   "mimetype": "text/x-python",
   "name": "python",
   "nbconvert_exporter": "python",
   "pygments_lexer": "ipython3",
   "version": "3.7.1"
  }
 },
 "nbformat": 4,
 "nbformat_minor": 2
}

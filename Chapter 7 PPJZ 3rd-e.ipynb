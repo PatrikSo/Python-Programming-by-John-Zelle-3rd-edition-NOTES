{
 "cells": [
  {
   "cell_type": "markdown",
   "metadata": {},
   "source": [
    "# Chapter 7\n",
    "\n",
    "Decision Structures, Exception Handling"
   ]
  },
  {
   "cell_type": "code",
   "execution_count": 4,
   "metadata": {},
   "outputs": [
    {
     "name": "stdout",
     "output_type": "stream",
     "text": [
      "What is the Calsius temperature? 30\n",
      "The temperature is 86.0 degrees Fahrenheit.\n",
      "What is the Calsius temperature? 50\n",
      "The temperature is 122.0 degrees Fahrenheit.\n",
      "It's really hot out there. Be careful!\n",
      "What is the Calsius temperature? -10\n",
      "The temperature is 14.0 degrees Fahrenheit.\n",
      "Brrrrr. Be sure to dress warmly!\n"
     ]
    }
   ],
   "source": [
    "#Susan Computewell's temperature conversion program from ch2 but enhanced\n",
    "\n",
    "def main():\n",
    "    celsius = float(input(\"What is the Calsius temperature? \"))\n",
    "    fahrenheit = 9/5 * celsius + 32\n",
    "    print(\"The temperature is\", fahrenheit,\"degrees Fahrenheit.\")\n",
    "    \n",
    "    #Print warnings for extreme temps\n",
    "    if fahrenheit > 90:\n",
    "        print(\"It's really hot out there. Be careful!\")\n",
    "    if fahrenheit < 30:\n",
    "        print(\"Brrrrr. Be sure to dress warmly!\")\n",
    "main()\n",
    "main()\n",
    "main()"
   ]
  },
  {
   "cell_type": "code",
   "execution_count": null,
   "metadata": {},
   "outputs": [],
   "source": [
    "#set-up\n",
    "if <condition>:\n",
    "    <body>"
   ]
  },
  {
   "cell_type": "code",
   "execution_count": 1,
   "metadata": {},
   "outputs": [
    {
     "data": {
      "text/html": [
       "<div>\n",
       "<style scoped>\n",
       "    .dataframe tbody tr th:only-of-type {\n",
       "        vertical-align: middle;\n",
       "    }\n",
       "\n",
       "    .dataframe tbody tr th {\n",
       "        vertical-align: top;\n",
       "    }\n",
       "\n",
       "    .dataframe thead th {\n",
       "        text-align: right;\n",
       "    }\n",
       "</style>\n",
       "<table border=\"1\" class=\"dataframe\">\n",
       "  <thead>\n",
       "    <tr style=\"text-align: right;\">\n",
       "      <th></th>\n",
       "      <th>Operation</th>\n",
       "      <th>Mathematics</th>\n",
       "      <th>Meaning</th>\n",
       "    </tr>\n",
       "  </thead>\n",
       "  <tbody>\n",
       "    <tr>\n",
       "      <th>0</th>\n",
       "      <td>&lt;</td>\n",
       "      <td>&lt;</td>\n",
       "      <td>Less than</td>\n",
       "    </tr>\n",
       "    <tr>\n",
       "      <th>1</th>\n",
       "      <td>&lt;=</td>\n",
       "      <td>≤</td>\n",
       "      <td>less than or equal to</td>\n",
       "    </tr>\n",
       "    <tr>\n",
       "      <th>2</th>\n",
       "      <td>==</td>\n",
       "      <td>=</td>\n",
       "      <td>equal to</td>\n",
       "    </tr>\n",
       "    <tr>\n",
       "      <th>3</th>\n",
       "      <td>&gt;=</td>\n",
       "      <td>≥</td>\n",
       "      <td>Greater than or equal to</td>\n",
       "    </tr>\n",
       "    <tr>\n",
       "      <th>4</th>\n",
       "      <td>&gt;</td>\n",
       "      <td>&gt;</td>\n",
       "      <td>greater than</td>\n",
       "    </tr>\n",
       "    <tr>\n",
       "      <th>5</th>\n",
       "      <td>!=</td>\n",
       "      <td>≠</td>\n",
       "      <td>not equal to</td>\n",
       "    </tr>\n",
       "  </tbody>\n",
       "</table>\n",
       "</div>"
      ],
      "text/plain": [
       "  Operation Mathematics                   Meaning\n",
       "0         <           <                 Less than\n",
       "1        <=           ≤     less than or equal to\n",
       "2        ==           =                  equal to\n",
       "3        >=           ≥  Greater than or equal to\n",
       "4         >           >              greater than\n",
       "5        !=           ≠              not equal to"
      ]
     },
     "execution_count": 1,
     "metadata": {},
     "output_type": "execute_result"
    }
   ],
   "source": [
    "#Basic relational operators in Python:\n",
    "\n",
    "import pandas as pd\n",
    "data = [[\"<\",\"<\",\"Less than\"],[\"<=\",\"≤\",\"less than or equal to\"],[\"==\",\"=\",\"equal to\"],[\">=\",\"≥\",\"Greater than or equal to\"],[\">\",\">\",\"greater than\"],[\"!=\",\"≠\",\"not equal to\"]]\n",
    "pd.DataFrame(data, columns=[\"Operation\",\"Mathematics\",\"Meaning\"])"
   ]
  },
  {
   "cell_type": "code",
   "execution_count": 3,
   "metadata": {},
   "outputs": [
    {
     "name": "stdout",
     "output_type": "stream",
     "text": [
      "False\n",
      "False\n",
      "True\n",
      "False\n",
      "True\n"
     ]
    }
   ],
   "source": [
    "#Boolean examples\n",
    "\n",
    "print(3 > 4)\n",
    "print(3 * 4 < 3 + 4)\n",
    "print(\"hello\" == \"hello\")\n",
    "print(\"hello\" < \"hello\")\n",
    "print(\"Hello\" < \"hello\")"
   ]
  },
  {
   "cell_type": "code",
   "execution_count": null,
   "metadata": {},
   "outputs": [],
   "source": [
    "#if-else statement set-up:\n",
    "\n",
    "if <condition>:\n",
    "    <statements>\n",
    "else:\n",
    "    <statements>"
   ]
  },
  {
   "cell_type": "code",
   "execution_count": 7,
   "metadata": {},
   "outputs": [
    {
     "name": "stdout",
     "output_type": "stream",
     "text": [
      "This program finds the real solutions to a quadratic\n",
      "\n",
      "Enter coefficient a: 1\n",
      "Enter coefficient b: 2\n",
      "Enter coefficient c: 3\n",
      "\n",
      " The equation has no real roots!\n",
      "This program finds the real solutions to a quadratic\n",
      "\n",
      "Enter coefficient a: 2\n",
      "Enter coefficient b: 4\n",
      "Enter coefficient c: 1\n",
      "\n",
      " The solutions are: -0.2928932188134524 -1.7071067811865475\n",
      "This program finds the real solutions to a quadratic\n",
      "\n",
      "Enter coefficient a: 1\n",
      "Enter coefficient b: 2\n",
      "Enter coefficient c: 1\n",
      "\n",
      " There is a double root at -1.0\n"
     ]
    }
   ],
   "source": [
    "#updated quadratic solver from ch3\n",
    "import math\n",
    "\n",
    "def main():\n",
    "    print(\"This program finds the real solutions to a quadratic\\n\")\n",
    "    \n",
    "    a = float(input(\"Enter coefficient a: \"))\n",
    "    b = float(input(\"Enter coefficient b: \"))\n",
    "    c = float(input(\"Enter coefficient c: \"))\n",
    "    \n",
    "    discrim = b * b - 4 * a * c\n",
    "    if discrim < 0:\n",
    "        print(\"\\n The equation has no real roots!\")\n",
    "    elif discrim == 0:\n",
    "        root = -b / (2 * a)\n",
    "        print(\"\\n There is a double root at\", root)\n",
    "    else:\n",
    "        discRoot = math.sqrt(b * b - 4 * a * c)\n",
    "        root1 = (-b + discRoot) / (2 * a)\n",
    "        root2 = (-b - discRoot) / (2 * a)\n",
    "        print(\"\\n The solutions are:\", root1, root2)\n",
    "\n",
    "main()\n",
    "main()\n",
    "main()"
   ]
  },
  {
   "cell_type": "code",
   "execution_count": null,
   "metadata": {},
   "outputs": [],
   "source": [
    "#elif statement set-up\n",
    "\n",
    "if <conditional>:\n",
    "    <case1 statements>\n",
    "elif <condition 2>:\n",
    "    <case2 statements>\n",
    "elif <condition 3>:\n",
    "    <case3 statements>\n",
    "...\n",
    "else:\n",
    "    <default statements>"
   ]
  },
  {
   "cell_type": "code",
   "execution_count": null,
   "metadata": {},
   "outputs": [],
   "source": [
    "#try statement general form:\n",
    "\n",
    "try:\n",
    "    <body>\n",
    "except <ErrorType>:\n",
    "    <handler>"
   ]
  },
  {
   "cell_type": "code",
   "execution_count": 9,
   "metadata": {},
   "outputs": [
    {
     "name": "stdout",
     "output_type": "stream",
     "text": [
      "This program finds the real solutions to a quadratic\n",
      "\n",
      "Enter coefficient a: 1\n",
      "Enter coefficient b: 2\n",
      "Enter coefficient c: 3\n",
      "No Real Roots\n",
      "This program finds the real solutions to a quadratic\n",
      "\n",
      "Enter coefficient a: x\n",
      "Invalid coefficient given\n"
     ]
    }
   ],
   "source": [
    "#version of quadratic solver program with an exception handling\n",
    "#this time our input of 1, 2, 3 isn't an error\n",
    "#shows wrong input type errors too\n",
    "\n",
    "def main():\n",
    "    print(\"This program finds the real solutions to a quadratic\\n\")\n",
    "    \n",
    "    try:\n",
    "        a = float(input(\"Enter coefficient a: \"))\n",
    "        b = float(input(\"Enter coefficient b: \"))\n",
    "        c = float(input(\"Enter coefficient c: \"))\n",
    "        discRoot = math.sqrt(b * b - 4 * a * c)\n",
    "        root1 = (-b + discRoot) / (2 * a)\n",
    "        root2 = (-b - discRoot) / (2 * a)\n",
    "        print(\"\\n The solutions are:\", root1, root2)\n",
    "    except ValueError as excObj:\n",
    "        if str(excObj) == \"math domain error\":\n",
    "            print(\"No Real Roots\")\n",
    "        else:\n",
    "            print(\"Invalid coefficient given\")\n",
    "    except:\n",
    "        print(\"\\nSomething went wrong, sorry!\")\n",
    "\n",
    "main()\n",
    "main()"
   ]
  },
  {
   "cell_type": "code",
   "execution_count": 13,
   "metadata": {},
   "outputs": [
    {
     "name": "stdout",
     "output_type": "stream",
     "text": [
      "Please enter three values: 10, 200, 150\n",
      "The largest value is 200\n"
     ]
    }
   ],
   "source": [
    "#attempt 1 at getting the largest number of 3 given numbers\n",
    "#Compare Each to All\n",
    "\n",
    "def main():\n",
    "    x1, x2, x3 = eval(input(\"Please enter three values: \"))\n",
    "    \n",
    "    if x1 >= x2 and x1 >= x3:\n",
    "        maxval = x1\n",
    "    elif x2 >= x1 and x2 >= x3:\n",
    "        maxval = x2\n",
    "    else:\n",
    "        maxval = x3\n",
    "        \n",
    "    print(\"The largest value is\", maxval)\n",
    "    \n",
    "main()"
   ]
  },
  {
   "cell_type": "code",
   "execution_count": 15,
   "metadata": {},
   "outputs": [
    {
     "name": "stdout",
     "output_type": "stream",
     "text": [
      "Please enter three values: 10, 200, 150\n",
      "The largest value is 200\n"
     ]
    }
   ],
   "source": [
    "#attempt 2 at getting the largest number of 3 given numbers\n",
    "#decision tree approach (more efficient)\n",
    "#Decision Tree\n",
    "\n",
    "def main():\n",
    "    x1, x2, x3 = eval(input(\"Please enter three values: \"))\n",
    "    \n",
    "    if x1 >= x2:\n",
    "        if x1 >= x3:\n",
    "            maxval = x1\n",
    "        else:\n",
    "            maxval = x3\n",
    "    else:\n",
    "        if x2 >= x3:\n",
    "            maxval = x2\n",
    "        else:\n",
    "            maxval = x3\n",
    "    \n",
    "    print(\"The largest value is\", maxval)\n",
    "            \n",
    "main()"
   ]
  },
  {
   "cell_type": "code",
   "execution_count": 16,
   "metadata": {},
   "outputs": [
    {
     "name": "stdout",
     "output_type": "stream",
     "text": [
      "Please enter three values: 10, 200, 150\n",
      "The largest value is 200\n"
     ]
    }
   ],
   "source": [
    "#attempt 3 at getting the largest number of 3 given numbers\n",
    "#Sequential Processing\n",
    "\n",
    "def main():\n",
    "    x1, x2, x3 = eval(input(\"Please enter three values: \"))\n",
    "    \n",
    "    maxval = x1\n",
    "    if x2 > maxval:\n",
    "        maxval = x2\n",
    "    if x3 > maxval:\n",
    "        maxval = x3\n",
    "        \n",
    "    print(\"The largest value is\", maxval)\n",
    "    \n",
    "main()"
   ]
  },
  {
   "cell_type": "code",
   "execution_count": 17,
   "metadata": {},
   "outputs": [
    {
     "name": "stdout",
     "output_type": "stream",
     "text": [
      "How many numbers are there? 5\n",
      "Enter a number >> 10\n",
      "Enter a number >> 200\n",
      "Enter a number >> 150\n",
      "Enter a number >> 75\n",
      "Enter a number >> 250\n",
      "The largest value is 250.0\n"
     ]
    }
   ],
   "source": [
    "#Finds the maximum in a series of numbers\n",
    "\n",
    "def main():\n",
    "    n = int(input(\"How many numbers are there? \"))\n",
    "    \n",
    "    #set max to be the first value\n",
    "    maxval = float(input(\"Enter a number >> \"))\n",
    "    \n",
    "    #Now compare the n-1 successive values\n",
    "    for i in range(n-1):\n",
    "        x = float(input(\"Enter a number >> \"))\n",
    "        if x > maxval:\n",
    "            maxval = x\n",
    "            \n",
    "    print(\"The largest value is\", maxval)\n",
    "    \n",
    "main()"
   ]
  },
  {
   "cell_type": "code",
   "execution_count": 18,
   "metadata": {},
   "outputs": [
    {
     "name": "stdout",
     "output_type": "stream",
     "text": [
      "Please enter three values: 10, 200, 150\n",
      "The largest value is 200\n"
     ]
    }
   ],
   "source": [
    "#attempt 4, using Python\n",
    "\n",
    "def main():\n",
    "    x1, x2, x3 = eval(input(\"Please enter three values: \"))\n",
    "    print(\"The largest value is\", max(x1, x2, x3))\n",
    "    \n",
    "main()"
   ]
  },
  {
   "cell_type": "markdown",
   "metadata": {},
   "source": [
    "# Chapter 7 summary\n",
    "\n",
    " - Decision structures are control structures that allow a program to execute different sequences of instructions for different cases\n",
    " - Python uses if statements for decision making\n",
    "    - if is used for simple decisions\n",
    "    - if-else is used for two-way decisions\n",
    "    - if-elif-else is used for multi-way decisions\n",
    " - Decisions are based off of boolean expressions\n",
    "    - true or false\n",
    " - some languages provide exception handling to make programs more \"bulletproof\""
   ]
  }
 ],
 "metadata": {
  "kernelspec": {
   "display_name": "Python 3",
   "language": "python",
   "name": "python3"
  },
  "language_info": {
   "codemirror_mode": {
    "name": "ipython",
    "version": 3
   },
   "file_extension": ".py",
   "mimetype": "text/x-python",
   "name": "python",
   "nbconvert_exporter": "python",
   "pygments_lexer": "ipython3",
   "version": "3.7.1"
  }
 },
 "nbformat": 4,
 "nbformat_minor": 2
}

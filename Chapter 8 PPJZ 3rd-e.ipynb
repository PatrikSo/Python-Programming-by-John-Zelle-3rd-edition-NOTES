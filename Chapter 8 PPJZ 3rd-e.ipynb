{
 "cells": [
  {
   "cell_type": "markdown",
   "metadata": {},
   "source": [
    "# Chapter 8\n",
    "\n",
    "Loop Structures and Booleans"
   ]
  },
  {
   "cell_type": "code",
   "execution_count": null,
   "metadata": {},
   "outputs": [],
   "source": [
    "# for loop set-up: (definite loop)\n",
    "\n",
    "for <var> in <sequence>:\n",
    "    <body>"
   ]
  },
  {
   "cell_type": "code",
   "execution_count": 1,
   "metadata": {},
   "outputs": [
    {
     "name": "stdout",
     "output_type": "stream",
     "text": [
      "How many numbers do you have? 3\n",
      "Enter a number >> 2\n",
      "Enter a number >> 5\n",
      "Enter a number >> 1\n",
      "\n",
      "The average of the numbers is 2.6666666666666665\n"
     ]
    }
   ],
   "source": [
    "#Counted loop and accumulator patterns\n",
    "\n",
    "def main():\n",
    "    n = int(input(\"How many numbers do you have? \"))\n",
    "    total = 0.0\n",
    "    for i in range(n):\n",
    "        x = float(input(\"Enter a number >> \"))\n",
    "        total = total + x\n",
    "    print(\"\\nThe average of the numbers is\", total / n)\n",
    "    \n",
    "main()"
   ]
  },
  {
   "cell_type": "code",
   "execution_count": null,
   "metadata": {},
   "outputs": [],
   "source": [
    "# while loop set-up: (inDefinite loop)\n",
    "\n",
    "while <condition>:\n",
    "    <body>\n",
    "    \n",
    "#type of pre-test loop"
   ]
  },
  {
   "cell_type": "code",
   "execution_count": 2,
   "metadata": {},
   "outputs": [
    {
     "name": "stdout",
     "output_type": "stream",
     "text": [
      "0\n",
      "1\n",
      "2\n",
      "3\n",
      "4\n",
      "5\n",
      "6\n",
      "7\n",
      "8\n",
      "9\n",
      "10\n"
     ]
    }
   ],
   "source": [
    "#while loop example, counting 0 to 10:\n",
    "\n",
    "i = 0\n",
    "while i <= 10:\n",
    "    print(i)\n",
    "    i = i + 1"
   ]
  },
  {
   "cell_type": "code",
   "execution_count": 3,
   "metadata": {},
   "outputs": [
    {
     "name": "stdout",
     "output_type": "stream",
     "text": [
      "0\n",
      "1\n",
      "2\n",
      "3\n",
      "4\n",
      "5\n",
      "6\n",
      "7\n",
      "8\n",
      "9\n",
      "10\n"
     ]
    }
   ],
   "source": [
    "#for loop counterpart ^^ :\n",
    "\n",
    "for i in range(11):\n",
    "    print(i)"
   ]
  },
  {
   "cell_type": "code",
   "execution_count": 5,
   "metadata": {},
   "outputs": [
    {
     "name": "stdout",
     "output_type": "stream",
     "text": [
      "Enter a number >> 3\n",
      "Do you have more numbers (yes or no)? yes\n",
      "Enter a number >> 2\n",
      "Do you have more numbers (yes or no)? yes\n",
      "Enter a number >> 100\n",
      "Do you have more numbers (yes or no)? no\n",
      "\n",
      "The average of the numbers is 35.0\n"
     ]
    }
   ],
   "source": [
    "#Interactive loop example:\n",
    "\n",
    "def main():\n",
    "    total = 0.0\n",
    "    count = 0\n",
    "    moredata = 'yes'\n",
    "    \n",
    "    while moredata[0] == \"y\":\n",
    "        x = float(input(\"Enter a number >> \"))\n",
    "        total = total + x\n",
    "        count = count + 1\n",
    "        moredata = input(\"Do you have more numbers (yes or no)? \")\n",
    "    print(\"\\nThe average of the numbers is\", total / count)\n",
    "    \n",
    "main()\n",
    "\n",
    "#loop lets us keep going until we type 'no'"
   ]
  },
  {
   "cell_type": "markdown",
   "metadata": {},
   "source": [
    "#Sentinel Loop example:\n",
    "\n",
    "Get the first data item\n",
    "while item is not the sentinel\n",
    "    process the item\n",
    "    get the next data item\n",
    "    \n",
    "^^^^ Sentinal loop set-up ^^^^"
   ]
  },
  {
   "cell_type": "markdown",
   "metadata": {},
   "source": [
    "-----------------------------------------------------\n",
    "- Sentinal Loop: \n",
    "    - Special loop that continues to process data until it reaches a specified value that signals the end.\n",
    "-----------------------------------------------------\n"
   ]
  },
  {
   "cell_type": "code",
   "execution_count": 2,
   "metadata": {},
   "outputs": [
    {
     "name": "stdout",
     "output_type": "stream",
     "text": [
      "Enter a number (nagative to quit) >>32\n",
      "Enter a number (negative to quit) >>45\n",
      "Enter a number (negative to quit) >>34\n",
      "Enter a number (negative to quit) >>76\n",
      "Enter a number (negative to quit) >>45\n",
      "Enter a number (negative to quit) >>-1\n",
      "\n",
      "The average of the numbers is 46.4\n"
     ]
    }
   ],
   "source": [
    "#Example of a Sentinel loop in action: (re-worked averaging program)\n",
    "\n",
    "def main():\n",
    "    total = 0.0\n",
    "    count = 0\n",
    "    x = float(input(\"Enter a number (nagative to quit) >>\"))\n",
    "    while x >= 0:\n",
    "        total = total + x\n",
    "        count = count + 1\n",
    "        x = float(input(\"Enter a number (negative to quit) >>\"))\n",
    "    print(\"\\nThe average of the numbers is\", total/count)\n",
    "    \n",
    "main()"
   ]
  },
  {
   "cell_type": "code",
   "execution_count": 4,
   "metadata": {},
   "outputs": [
    {
     "name": "stdout",
     "output_type": "stream",
     "text": [
      "Enter a number (<Enter> to quit) >> -10\n",
      "Enter a number (<Enter> to quit) >> 10\n",
      "Enter a number (<Enter> to quit) >> 5\n",
      "Enter a number (<Enter> to quit) >> -25\n",
      "Enter a number (<Enter> to quit) >> \n",
      "\n",
      "The average of the numbers is -5.0\n"
     ]
    }
   ],
   "source": [
    "#Averaging program that accepts negative numbers too\n",
    "\n",
    "def main():\n",
    "    total = 0.0\n",
    "    count = 0\n",
    "    xStr = input(\"Enter a number (<Enter> to quit) >> \")\n",
    "    while xStr != \"\":\n",
    "        x = float(xStr)\n",
    "        total = total + x\n",
    "        count = count + 1\n",
    "        xStr = input(\"Enter a number (<Enter> to quit) >> \")\n",
    "    print(\"\\nThe average of the numbers is\", total/count )\n",
    "\n",
    "main()\n",
    "\n",
    "#Our sentinel is a string now, so now we can use any number"
   ]
  },
  {
   "cell_type": "code",
   "execution_count": 7,
   "metadata": {},
   "outputs": [
    {
     "name": "stdout",
     "output_type": "stream",
     "text": [
      "What file are the numbers in? grades.txt\n",
      "\n",
      "The average of the numbers is 31.428571428571427\n"
     ]
    }
   ],
   "source": [
    "#Averaging program that reads a file with all given grades. Assuming there is a single grade per line.\n",
    "\n",
    "def main():\n",
    "    fileName = input(\"What file are the numbers in? \")\n",
    "    infile = open(fileName, 'r')\n",
    "    total = 0.0\n",
    "    count = 0\n",
    "    for line in infile:\n",
    "        total = total + float(line)\n",
    "        count = count + 1\n",
    "    print(\"\\nThe average of the numbers is\", total/count)\n",
    "    \n",
    "main()\n",
    "\n",
    "#don't forget to add file type when giving file name \"grades.txt\""
   ]
  },
  {
   "cell_type": "code",
   "execution_count": 8,
   "metadata": {},
   "outputs": [
    {
     "name": "stdout",
     "output_type": "stream",
     "text": [
      "What file are the numbers in? grades.txt\n",
      "\n",
      "The average of the numbers is 31.428571428571427\n"
     ]
    }
   ],
   "source": [
    "#end-of-file loop using readline() in Python\n",
    "#Other coding languages may not have special methods for going through files like python, here is a general version:\n",
    "\n",
    "def main():\n",
    "    fileName = input(\"What file are the numbers in? \")\n",
    "    infile = open(fileName, 'r')\n",
    "    total = 0.0\n",
    "    count = 0\n",
    "    line = infile.readline()\n",
    "    while line != \"\":\n",
    "        total = total + float(line)\n",
    "        count = count + 1\n",
    "        line = infile.readline()\n",
    "    print(\"\\nThe average of the numbers is\", total/count)\n",
    "\n",
    "main()"
   ]
  },
  {
   "cell_type": "markdown",
   "metadata": {},
   "source": [
    "-----------------------------------------------------\n",
    "- Nested Loops: \n",
    "    - Loop with another loop in it.\n",
    "-----------------------------------------------------\n"
   ]
  },
  {
   "cell_type": "code",
   "execution_count": 9,
   "metadata": {},
   "outputs": [
    {
     "name": "stdout",
     "output_type": "stream",
     "text": [
      "What file are the numbers in? gradesML.txt\n",
      "\n",
      "The average of the numbers is 25.23076923076923\n"
     ]
    }
   ],
   "source": [
    "#Another version of the averaging program but uses nested loops to accept multiple grades per line\n",
    "#relies on the grades being seperated by commas in the line\n",
    "\n",
    "def main():\n",
    "    fileName = input(\"What file are the numbers in? \")\n",
    "    infile = open(fileName,'r')\n",
    "    total = 0.0\n",
    "    count = 0\n",
    "    line = infile.readline()\n",
    "    while line != \"\":\n",
    "        #update total and count for values in line\n",
    "        for xStr in line.split(\",\"):\n",
    "            total = total + float(xStr)\n",
    "            count = count + 1\n",
    "        line = infile.readline()\n",
    "    print(\"\\nThe average of the numbers is\", total/count)\n",
    "\n",
    "main()"
   ]
  },
  {
   "cell_type": "markdown",
   "metadata": {},
   "source": [
    "-----------------------------------------------------\n",
    "- Boolean expressions/values always result to true or false\n",
    "    - Three boolean operators: and , or, not\n",
    "    - Boolean logic or Boolean algebra.\n",
    "-----------------------------------------------------\n"
   ]
  },
  {
   "cell_type": "code",
   "execution_count": 10,
   "metadata": {},
   "outputs": [
    {
     "data": {
      "text/html": [
       "<div>\n",
       "<style scoped>\n",
       "    .dataframe tbody tr th:only-of-type {\n",
       "        vertical-align: middle;\n",
       "    }\n",
       "\n",
       "    .dataframe tbody tr th {\n",
       "        vertical-align: top;\n",
       "    }\n",
       "\n",
       "    .dataframe thead th {\n",
       "        text-align: right;\n",
       "    }\n",
       "</style>\n",
       "<table border=\"1\" class=\"dataframe\">\n",
       "  <thead>\n",
       "    <tr style=\"text-align: right;\">\n",
       "      <th></th>\n",
       "      <th>P</th>\n",
       "      <th>Q</th>\n",
       "      <th>P and Q</th>\n",
       "    </tr>\n",
       "  </thead>\n",
       "  <tbody>\n",
       "    <tr>\n",
       "      <th>0</th>\n",
       "      <td>T</td>\n",
       "      <td>T</td>\n",
       "      <td>T</td>\n",
       "    </tr>\n",
       "    <tr>\n",
       "      <th>1</th>\n",
       "      <td>T</td>\n",
       "      <td>F</td>\n",
       "      <td>F</td>\n",
       "    </tr>\n",
       "    <tr>\n",
       "      <th>2</th>\n",
       "      <td>F</td>\n",
       "      <td>T</td>\n",
       "      <td>F</td>\n",
       "    </tr>\n",
       "    <tr>\n",
       "      <th>3</th>\n",
       "      <td>F</td>\n",
       "      <td>F</td>\n",
       "      <td>F</td>\n",
       "    </tr>\n",
       "  </tbody>\n",
       "</table>\n",
       "</div>"
      ],
      "text/plain": [
       "   P  Q P and Q\n",
       "0  T  T       T\n",
       "1  T  F       F\n",
       "2  F  T       F\n",
       "3  F  F       F"
      ]
     },
     "execution_count": 10,
     "metadata": {},
     "output_type": "execute_result"
    }
   ],
   "source": [
    "#Logic table for 'and' logic:\n",
    "\n",
    "import pandas as pd\n",
    "data = [[\"T\",\"T\",\"T\"],[\"T\",\"F\",\"F\"],[\"F\",\"T\",\"F\"],[\"F\",\"F\",\"F\"]]\n",
    "pd.DataFrame(data, columns=[\"P\",\"Q\",\"P and Q\"])\n",
    "\n",
    "#P and Q are expressions"
   ]
  },
  {
   "cell_type": "code",
   "execution_count": 11,
   "metadata": {},
   "outputs": [
    {
     "data": {
      "text/html": [
       "<div>\n",
       "<style scoped>\n",
       "    .dataframe tbody tr th:only-of-type {\n",
       "        vertical-align: middle;\n",
       "    }\n",
       "\n",
       "    .dataframe tbody tr th {\n",
       "        vertical-align: top;\n",
       "    }\n",
       "\n",
       "    .dataframe thead th {\n",
       "        text-align: right;\n",
       "    }\n",
       "</style>\n",
       "<table border=\"1\" class=\"dataframe\">\n",
       "  <thead>\n",
       "    <tr style=\"text-align: right;\">\n",
       "      <th></th>\n",
       "      <th>P</th>\n",
       "      <th>Q</th>\n",
       "      <th>P or Q</th>\n",
       "    </tr>\n",
       "  </thead>\n",
       "  <tbody>\n",
       "    <tr>\n",
       "      <th>0</th>\n",
       "      <td>T</td>\n",
       "      <td>T</td>\n",
       "      <td>T</td>\n",
       "    </tr>\n",
       "    <tr>\n",
       "      <th>1</th>\n",
       "      <td>T</td>\n",
       "      <td>F</td>\n",
       "      <td>T</td>\n",
       "    </tr>\n",
       "    <tr>\n",
       "      <th>2</th>\n",
       "      <td>F</td>\n",
       "      <td>T</td>\n",
       "      <td>T</td>\n",
       "    </tr>\n",
       "    <tr>\n",
       "      <th>3</th>\n",
       "      <td>F</td>\n",
       "      <td>F</td>\n",
       "      <td>F</td>\n",
       "    </tr>\n",
       "  </tbody>\n",
       "</table>\n",
       "</div>"
      ],
      "text/plain": [
       "   P  Q P or Q\n",
       "0  T  T      T\n",
       "1  T  F      T\n",
       "2  F  T      T\n",
       "3  F  F      F"
      ]
     },
     "execution_count": 11,
     "metadata": {},
     "output_type": "execute_result"
    }
   ],
   "source": [
    "#Logic table for 'or' logic:\n",
    "\n",
    "import pandas as pd\n",
    "data = [[\"T\",\"T\",\"T\"],[\"T\",\"F\",\"T\"],[\"F\",\"T\",\"T\"],[\"F\",\"F\",\"F\"]]\n",
    "pd.DataFrame(data, columns=[\"P\",\"Q\",\"P or Q\"])\n",
    "\n",
    "#P and Q are expressions"
   ]
  },
  {
   "cell_type": "code",
   "execution_count": 12,
   "metadata": {},
   "outputs": [
    {
     "data": {
      "text/html": [
       "<div>\n",
       "<style scoped>\n",
       "    .dataframe tbody tr th:only-of-type {\n",
       "        vertical-align: middle;\n",
       "    }\n",
       "\n",
       "    .dataframe tbody tr th {\n",
       "        vertical-align: top;\n",
       "    }\n",
       "\n",
       "    .dataframe thead th {\n",
       "        text-align: right;\n",
       "    }\n",
       "</style>\n",
       "<table border=\"1\" class=\"dataframe\">\n",
       "  <thead>\n",
       "    <tr style=\"text-align: right;\">\n",
       "      <th></th>\n",
       "      <th>P</th>\n",
       "      <th>not P</th>\n",
       "    </tr>\n",
       "  </thead>\n",
       "  <tbody>\n",
       "    <tr>\n",
       "      <th>0</th>\n",
       "      <td>T</td>\n",
       "      <td>F</td>\n",
       "    </tr>\n",
       "    <tr>\n",
       "      <th>1</th>\n",
       "      <td>F</td>\n",
       "      <td>T</td>\n",
       "    </tr>\n",
       "  </tbody>\n",
       "</table>\n",
       "</div>"
      ],
      "text/plain": [
       "   P not P\n",
       "0  T     F\n",
       "1  F     T"
      ]
     },
     "execution_count": 12,
     "metadata": {},
     "output_type": "execute_result"
    }
   ],
   "source": [
    "#Logic table for 'not' logic:\n",
    "\n",
    "import pandas as pd\n",
    "data = [[\"T\",\"F\"],[\"F\",\"T\"]]\n",
    "pd.DataFrame(data, columns=[\"P\",\"not P\"])\n",
    "\n",
    "#P is an expressions"
   ]
  },
  {
   "cell_type": "code",
   "execution_count": null,
   "metadata": {},
   "outputs": [],
   "source": [
    "#Testing for the co-location of two points:\n",
    "\n",
    "if p1.getX() == p2.getX() and p2.getY() == p1.getY():\n",
    "    #points are the same\n",
    "else:\n",
    "    #points are different"
   ]
  },
  {
   "cell_type": "code",
   "execution_count": 14,
   "metadata": {},
   "outputs": [
    {
     "data": {
      "text/html": [
       "<div>\n",
       "<style scoped>\n",
       "    .dataframe tbody tr th:only-of-type {\n",
       "        vertical-align: middle;\n",
       "    }\n",
       "\n",
       "    .dataframe tbody tr th {\n",
       "        vertical-align: top;\n",
       "    }\n",
       "\n",
       "    .dataframe thead th {\n",
       "        text-align: right;\n",
       "    }\n",
       "</style>\n",
       "<table border=\"1\" class=\"dataframe\">\n",
       "  <thead>\n",
       "    <tr style=\"text-align: right;\">\n",
       "      <th></th>\n",
       "      <th>DeMorgans properties:</th>\n",
       "    </tr>\n",
       "  </thead>\n",
       "  <tbody>\n",
       "    <tr>\n",
       "      <th>0</th>\n",
       "      <td>( not(a or b)) == ( (not a) and (not b) )</td>\n",
       "    </tr>\n",
       "    <tr>\n",
       "      <th>1</th>\n",
       "      <td>( not(a and b)) == ( (not a) or (not b) )</td>\n",
       "    </tr>\n",
       "  </tbody>\n",
       "</table>\n",
       "</div>"
      ],
      "text/plain": [
       "                      DeMorgans properties: \n",
       "0  ( not(a or b)) == ( (not a) and (not b) )\n",
       "1  ( not(a and b)) == ( (not a) or (not b) )"
      ]
     },
     "execution_count": 14,
     "metadata": {},
     "output_type": "execute_result"
    }
   ],
   "source": [
    "#two properties of boolean algebra: known as DeMorgan's laws\n",
    "\n",
    "import pandas as pd\n",
    "data = [[\"( not(a or b)) == ( (not a) and (not b) )\"],[\"( not(a and b)) == ( (not a) or (not b) )\"]]\n",
    "pd.DataFrame(data, columns=['DeMorgans properties: '])"
   ]
  },
  {
   "cell_type": "markdown",
   "metadata": {},
   "source": [
    "-----------------------------------------------------\n",
    "- Post-Test loop\n",
    "   -   algorithm containing a loop where the condition test comes after the loop body\n",
    "   -  Used for input validation\n",
    "-----------------------------------------------------\n"
   ]
  },
  {
   "cell_type": "code",
   "execution_count": 15,
   "metadata": {},
   "outputs": [
    {
     "name": "stdout",
     "output_type": "stream",
     "text": [
      "Enter a positive number: -1\n",
      "The number you entered was not positive\n",
      "Enter a positive number: 1\n"
     ]
    }
   ],
   "source": [
    "#Example Post-test loop algorithm:\n",
    "\n",
    "while True:\n",
    "    number = float(input(\"Enter a positive number: \"))\n",
    "    if number >= 0:\n",
    "        break #Exit the loop if the number is valid\n",
    "    else:\n",
    "        print(\"The number you entered was not positive\")\n",
    "        \n",
    "#while True is an infinite loop, we can use a break to get out of it\n",
    "#it is a post-test loop as the loop runs first, then tested"
   ]
  },
  {
   "cell_type": "markdown",
   "metadata": {},
   "source": [
    "-----------------------------------------------------\n",
    "- Loop and a Half\n",
    "    - algorithm containing a loop where the loop exit is in the middle of the loop body\n",
    "-----------------------------------------------------\n"
   ]
  },
  {
   "cell_type": "code",
   "execution_count": 16,
   "metadata": {},
   "outputs": [
    {
     "name": "stdout",
     "output_type": "stream",
     "text": [
      "Enter a positive number: -1\n",
      "The number you entered was not positive\n",
      "Enter a positive number: 1\n"
     ]
    }
   ],
   "source": [
    "#Example Loop and a Half:\n",
    "\n",
    "while True:\n",
    "    number = float(input(\"Enter a positive number: \"))\n",
    "    if number >= 0: break #loop exit\n",
    "    print(\"The number you entered was not positive\")\n",
    "    \n",
    "#same program as our Post-test loop but shorter and better looking with our loop and a half approach"
   ]
  },
  {
   "cell_type": "code",
   "execution_count": 21,
   "metadata": {},
   "outputs": [
    {
     "name": "stdout",
     "output_type": "stream",
     "text": [
      "False\n",
      "True\n",
      "True\n",
      "True\n",
      "False\n",
      "True\n",
      "False\n"
     ]
    }
   ],
   "source": [
    "#Examples of evaluating expressions to type bool\n",
    "\n",
    "print(bool(0))\n",
    "print(bool(1))\n",
    "print(bool(32))\n",
    "print(bool(\"hello\"))\n",
    "print(bool(\"\"))\n",
    "print(bool([1,2,3]))\n",
    "print(bool([]))"
   ]
  },
  {
   "cell_type": "markdown",
   "metadata": {},
   "source": [
    "-----------------------------------------------------\n",
    "- short circuit operators\n",
    "    - a True of False value is returned as soon as the result is known\n",
    "-----------------------------------------------------"
   ]
  },
  {
   "cell_type": "markdown",
   "metadata": {},
   "source": [
    "-----------------------------------------------------\n",
    "- modal input methods\n",
    "    - input methods that lock the user into a certain mode of interaction\n",
    "\n",
    "- nonmodal (multimodal) input methods\n",
    "    -  When the user is in control on how to interact\n",
    "-----------------------------------------------------"
   ]
  },
  {
   "cell_type": "markdown",
   "metadata": {},
   "source": [
    "## Chapter 8 Summary\n",
    "\n",
    "- A Python for loop is a definite loop that iterates through a sequence\n",
    "- Python while statement is an example of an indefinite loop. Continues to iterate as long as the loop condition remains true. Infinite loops are possible.\n",
    "- One important use for an indefinite loop is for implementing the programming pattern interactive loop. An interactive loop allows portions of a program to be repeated according to the wishes of the user.\n",
    "- A Sentinel loop is a loop that handles input until a specific value (the sentinel) is encountered. They are a common programming pattern. Need to be carefule to not process the sentinel.\n",
    "- loops are useful for reading files. Python treats files as a sequence of lines, making it particularly easy to process a file line by line using a for loop. Other languages most likely use a sentinel loop pattern for this.\n",
    "- Loops can be nested, while designing them consider one at a time.\n",
    "- Complex boolean expressions can be built from simple conditions using boolean operators and, or, and not (obey rules of boolean algebra). DeMorgan's law describes how to negate boolean expressions involving and and or.\n",
    "- Nonstandard loop structures (like the Loop and a half) can be built using a while loop run with a break statement.\n",
    "- Python boolean operators and and or employ short-circuit evaluation. They have operational definitions that allow them to be used in certain decision contexts. Python has the bool data type, almost every data type can be addressed as a boolean.\n",
    "- GUI programs are generally event driven and implement carefully designed event loops to control user interaction. Interactions are nonmodal when the user is in control of what happens next and modal when the application dictates what the user must do next."
   ]
  }
 ],
 "metadata": {
  "kernelspec": {
   "display_name": "Python 3",
   "language": "python",
   "name": "python3"
  },
  "language_info": {
   "codemirror_mode": {
    "name": "ipython",
    "version": 3
   },
   "file_extension": ".py",
   "mimetype": "text/x-python",
   "name": "python",
   "nbconvert_exporter": "python",
   "pygments_lexer": "ipython3",
   "version": "3.7.1"
  }
 },
 "nbformat": 4,
 "nbformat_minor": 2
}

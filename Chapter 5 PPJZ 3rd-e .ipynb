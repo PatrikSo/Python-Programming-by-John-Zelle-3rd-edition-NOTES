{
 "cells": [
  {
   "cell_type": "markdown",
   "metadata": {},
   "source": [
    "# Chapter 5\n",
    "\n",
    "Sequences: Strings, Lists, and Files\n",
    "\n",
    "- Basics/Fun with Strings (operations and methods), Lists and Files.\n",
    "- Intro to Cryptography (super basic).\n",
    "- String Formatting"
   ]
  },
  {
   "cell_type": "code",
   "execution_count": 2,
   "metadata": {},
   "outputs": [
    {
     "name": "stdout",
     "output_type": "stream",
     "text": [
      "hello spam\n",
      "<class 'str'>\n",
      "<class 'str'>\n"
     ]
    }
   ],
   "source": [
    "str1 = \"hello\";\n",
    "str2 = 'spam';\n",
    "print(str1, str2);\n",
    "print(type(str1));\n",
    "print(type(str2));"
   ]
  },
  {
   "cell_type": "code",
   "execution_count": 3,
   "metadata": {},
   "outputs": [
    {
     "name": "stdout",
     "output_type": "stream",
     "text": [
      "Please enter your name: Patrik\n",
      "Hello Patrik\n"
     ]
    }
   ],
   "source": [
    "firstName = input(\"Please enter your name: \");\n",
    "print(\"Hello\", firstName);"
   ]
  },
  {
   "cell_type": "code",
   "execution_count": 7,
   "metadata": {},
   "outputs": [
    {
     "name": "stdout",
     "output_type": "stream",
     "text": [
      "Hello Bob\n",
      "H l o\n",
      "B\n",
      "b\n",
      "B\n"
     ]
    }
   ],
   "source": [
    "greet = \"Hello Bob\";\n",
    "print(greet);\n",
    "greet[0];\n",
    "print(greet[0], greet[2], greet[4]);\n",
    "x = 8;\n",
    "print(greet[x-2]);\n",
    "print(greet[-1]);\n",
    "print(greet[-3]);"
   ]
  },
  {
   "cell_type": "code",
   "execution_count": 8,
   "metadata": {},
   "outputs": [
    {
     "name": "stdout",
     "output_type": "stream",
     "text": [
      "Hel\n",
      " Bob\n",
      "Hello\n",
      "Hello Bob\n"
     ]
    }
   ],
   "source": [
    "greet = \"Hello Bob\";\n",
    "print(greet[0:3]);\n",
    "print(greet[5:9]);\n",
    "print(greet[:5]);\n",
    "print(greet[:]);"
   ]
  },
  {
   "cell_type": "code",
   "execution_count": 11,
   "metadata": {},
   "outputs": [
    {
     "data": {
      "text/html": [
       "<div>\n",
       "<style scoped>\n",
       "    .dataframe tbody tr th:only-of-type {\n",
       "        vertical-align: middle;\n",
       "    }\n",
       "\n",
       "    .dataframe tbody tr th {\n",
       "        vertical-align: top;\n",
       "    }\n",
       "\n",
       "    .dataframe thead th {\n",
       "        text-align: right;\n",
       "    }\n",
       "</style>\n",
       "<table border=\"1\" class=\"dataframe\">\n",
       "  <thead>\n",
       "    <tr style=\"text-align: right;\">\n",
       "      <th></th>\n",
       "      <th>Foo</th>\n",
       "      <th>Bar</th>\n",
       "    </tr>\n",
       "  </thead>\n",
       "  <tbody>\n",
       "    <tr>\n",
       "      <th>0</th>\n",
       "      <td>1</td>\n",
       "      <td>2</td>\n",
       "    </tr>\n",
       "    <tr>\n",
       "      <th>1</th>\n",
       "      <td>3</td>\n",
       "      <td>4</td>\n",
       "    </tr>\n",
       "  </tbody>\n",
       "</table>\n",
       "</div>"
      ],
      "text/plain": [
       "   Foo  Bar\n",
       "0    1    2\n",
       "1    3    4"
      ]
     },
     "execution_count": 11,
     "metadata": {},
     "output_type": "execute_result"
    }
   ],
   "source": [
    "#online example of a table\n",
    "import pandas as pd\n",
    "data = [[1,2],[3,4]]\n",
    "pd.DataFrame(data, columns=[\"Foo\",\"Bar\"])"
   ]
  },
  {
   "cell_type": "code",
   "execution_count": 12,
   "metadata": {},
   "outputs": [
    {
     "name": "stdout",
     "output_type": "stream",
     "text": [
      "spameggs\n",
      "SpamAndEggs\n",
      "spamspamspam\n",
      "spamspamspameggseggseggseggseggs\n",
      "4\n",
      "11\n",
      "S p a m ! "
     ]
    }
   ],
   "source": [
    "print(\"spam\" + \"eggs\");\n",
    "print(\"Spam\"+\"And\"+\"Eggs\");\n",
    "print(3 * \"spam\");\n",
    "print((3 * \"spam\") + (\"eggs\" * 5));\n",
    "print(len(\"spam\"));\n",
    "print(len(\"SpamAndEggs\"));\n",
    "\n",
    "for ch in \"Spam!\":\n",
    "    print(ch, end=\" \");\n",
    "    "
   ]
  },
  {
   "cell_type": "code",
   "execution_count": 15,
   "metadata": {},
   "outputs": [
    {
     "data": {
      "text/html": [
       "<div>\n",
       "<style scoped>\n",
       "    .dataframe tbody tr th:only-of-type {\n",
       "        vertical-align: middle;\n",
       "    }\n",
       "\n",
       "    .dataframe tbody tr th {\n",
       "        vertical-align: top;\n",
       "    }\n",
       "\n",
       "    .dataframe thead th {\n",
       "        text-align: right;\n",
       "    }\n",
       "</style>\n",
       "<table border=\"1\" class=\"dataframe\">\n",
       "  <thead>\n",
       "    <tr style=\"text-align: right;\">\n",
       "      <th></th>\n",
       "      <th>Operation</th>\n",
       "      <th>Meaning</th>\n",
       "    </tr>\n",
       "  </thead>\n",
       "  <tbody>\n",
       "    <tr>\n",
       "      <th>0</th>\n",
       "      <td>+</td>\n",
       "      <td>concatination</td>\n",
       "    </tr>\n",
       "    <tr>\n",
       "      <th>1</th>\n",
       "      <td>*</td>\n",
       "      <td>repitition</td>\n",
       "    </tr>\n",
       "    <tr>\n",
       "      <th>2</th>\n",
       "      <td>&lt;string&gt;[]</td>\n",
       "      <td>indexing</td>\n",
       "    </tr>\n",
       "    <tr>\n",
       "      <th>3</th>\n",
       "      <td>&lt;string&gt;[:]</td>\n",
       "      <td>slicing</td>\n",
       "    </tr>\n",
       "    <tr>\n",
       "      <th>4</th>\n",
       "      <td>for &lt;var&gt; in &lt;string&gt;</td>\n",
       "      <td>iteration through characters</td>\n",
       "    </tr>\n",
       "  </tbody>\n",
       "</table>\n",
       "</div>"
      ],
      "text/plain": [
       "               Operation                       Meaning\n",
       "0                      +                 concatination\n",
       "1                      *                    repitition\n",
       "2             <string>[]                      indexing\n",
       "3            <string>[:]                       slicing\n",
       "4  for <var> in <string>  iteration through characters"
      ]
     },
     "execution_count": 15,
     "metadata": {},
     "output_type": "execute_result"
    }
   ],
   "source": [
    "#Basic operations for strings:\n",
    "\n",
    "import pandas as pd\n",
    "data = [[\"+\",\"concatination\"],[\"*\",\"repitition\"],[\"<string>[]\",\"indexing\"],[\"<string>[:]\",\"slicing\"],[\"for <var> in <string>\",\"iteration through characters\"]]\n",
    "pd.DataFrame(data, columns=[\"Operation\",\"Meaning\"])"
   ]
  },
  {
   "cell_type": "code",
   "execution_count": 16,
   "metadata": {},
   "outputs": [
    {
     "name": "stdout",
     "output_type": "stream",
     "text": [
      "This program generates computer usernames.\n",
      "\n",
      "Please enter your first name (all lowercase): Patrik\n",
      "Please enter your last name (all lowercase): Sokolowski\n",
      "Your username is: PSokolow\n"
     ]
    }
   ],
   "source": [
    "def main():\n",
    "    print(\"This program generates computer usernames.\\n\")\n",
    "    \n",
    "    #get users first and last names\n",
    "    first = input(\"Please enter your first name (all lowercase): \")\n",
    "    last = input(\"Please enter your last name (all lowercase): \")\n",
    "    \n",
    "    #concatinate first initial with 7 chars of the last name.\n",
    "    uname = first[0] + last[:7]\n",
    "    \n",
    "    #output the username\n",
    "    print(\"Your username is:\", uname)\n",
    "\n",
    "main();"
   ]
  },
  {
   "cell_type": "code",
   "execution_count": 17,
   "metadata": {},
   "outputs": [
    {
     "name": "stdout",
     "output_type": "stream",
     "text": [
      "Enter your month's number (1-12): 8\n",
      "The month abbreviation is Aug.\n"
     ]
    }
   ],
   "source": [
    "\n",
    "def main():\n",
    "    #months is sued as a lookup table\n",
    "    months = \"JanFebMarAprMayJunJulAugSepOctNovDec\"\n",
    "    \n",
    "    n = int(input(\"Enter your month's number (1-12): \"))\n",
    "    \n",
    "    # compute starting position of month n in months\n",
    "    pos = (n-1) * 3\n",
    "    \n",
    "    #grab the appropriate slice from months\n",
    "    monthAbbrev = months[pos:pos+3]\n",
    "    \n",
    "    #print the result\n",
    "    print(\"The month abbreviation is\", monthAbbrev + \".\")\n",
    "\n",
    "main()\n",
    "    "
   ]
  },
  {
   "cell_type": "code",
   "execution_count": 2,
   "metadata": {},
   "outputs": [
    {
     "name": "stdout",
     "output_type": "stream",
     "text": [
      "[1, 2, 3, 4]\n",
      "[1, 2, 1, 2, 1, 2]\n",
      "A\n",
      "['C', 'D']\n",
      "5\n"
     ]
    }
   ],
   "source": [
    "print([1,2] + [3,4]);\n",
    "print([1,2]*3);\n",
    "grades = ['A','B','C','D','F'];\n",
    "print(grades[0]);\n",
    "print(grades[2:4]);\n",
    "print(len(grades));"
   ]
  },
  {
   "cell_type": "code",
   "execution_count": 3,
   "metadata": {},
   "outputs": [
    {
     "name": "stdout",
     "output_type": "stream",
     "text": [
      "[1, 'Spam', 4, 'E']\n"
     ]
    }
   ],
   "source": [
    "myList = [1, 'Spam', 4, 'E'];\n",
    "print(myList);"
   ]
  },
  {
   "cell_type": "code",
   "execution_count": 6,
   "metadata": {},
   "outputs": [
    {
     "name": "stdout",
     "output_type": "stream",
     "text": [
      "Enter the month you want as a number (1-12): 8\n",
      "the month abbreviation is Aug.\n"
     ]
    }
   ],
   "source": [
    "#Program to print the month abbreviation, given it's number\n",
    "\n",
    "def main():\n",
    "    \n",
    "    #months is a list used as a lookup table\n",
    "    months = [\"Jan\", \"Feb\", \"Mar\", \"Apr\", \"May\", \"Jun\", \"Jul\", \"Aug\", \"Sep\", \"Oct\", \"Nov\", \"Dec\"];\n",
    "    \n",
    "    n = int(input(\"Enter the month you want as a number (1-12): \"));\n",
    "    \n",
    "    print(\"the month abbreviation is\", months[n-1] +'.');\n",
    "\n",
    "main();"
   ]
  },
  {
   "cell_type": "code",
   "execution_count": 5,
   "metadata": {},
   "outputs": [
    {
     "name": "stdout",
     "output_type": "stream",
     "text": [
      "65\n",
      "97\n",
      "A\n",
      "a\n"
     ]
    }
   ],
   "source": [
    "print(ord('A'));\n",
    "print(ord('a'));\n",
    "print(chr(65));\n",
    "print(chr(97));"
   ]
  },
  {
   "cell_type": "code",
   "execution_count": 6,
   "metadata": {},
   "outputs": [
    {
     "name": "stdout",
     "output_type": "stream",
     "text": [
      "This program converts a textual message into a sequence\n",
      "of numbers representing the Unicode encoding of the message\n",
      "Please enter the message to encode: Hey there\n",
      "\n",
      "Here are the Unicode codes:\n",
      "72 101 121 32 116 104 101 114 101 \n"
     ]
    }
   ],
   "source": [
    "def main():\n",
    "    print(\"This program converts a textual message into a sequence\");\n",
    "    print(\"of numbers representing the Unicode encoding of the message\");\n",
    "    \n",
    "    #get message to encode\n",
    "    message = input(\"Please enter the message to encode: \");\n",
    "    \n",
    "    print(\"\\nHere are the Unicode codes:\");\n",
    "    \n",
    "    #Loop through the message and print out the Unicode values\n",
    "    for ch in message:\n",
    "        print(ord(ch), end=\" \")\n",
    "        \n",
    "    print() #blank line before prompt\n",
    "\n",
    "main();"
   ]
  },
  {
   "cell_type": "code",
   "execution_count": 2,
   "metadata": {},
   "outputs": [
    {
     "data": {
      "text/plain": [
       "['Hello,', 'string', 'methods!']"
      ]
     },
     "execution_count": 2,
     "metadata": {},
     "output_type": "execute_result"
    }
   ],
   "source": [
    "myString = 'Hello, string methods!'\n",
    "myString.split()"
   ]
  },
  {
   "cell_type": "code",
   "execution_count": 3,
   "metadata": {},
   "outputs": [
    {
     "data": {
      "text/plain": [
       "['32', '24', '25', '57']"
      ]
     },
     "execution_count": 3,
     "metadata": {},
     "output_type": "execute_result"
    }
   ],
   "source": [
    "\"32,24,25,57\".split(\",\")"
   ]
  },
  {
   "cell_type": "code",
   "execution_count": 2,
   "metadata": {},
   "outputs": [
    {
     "name": "stdout",
     "output_type": "stream",
     "text": [
      "Enter the point coordinates (x,y): 3.4,6.25\n",
      "['3.4', '6.25']\n",
      "3.4\n",
      "6.25\n",
      "3.4\n",
      "6.25\n"
     ]
    }
   ],
   "source": [
    "coords = input(\"Enter the point coordinates (x,y): \").split(\",\")\n",
    "x,y = float(coords[0]), float(coords[1])\n",
    "print(coords)\n",
    "print(coords[0])\n",
    "print(coords[1])\n",
    "print(x)\n",
    "print(y)"
   ]
  },
  {
   "cell_type": "code",
   "execution_count": 4,
   "metadata": {},
   "outputs": [
    {
     "name": "stdout",
     "output_type": "stream",
     "text": [
      "This program converts a sequence of Unicode numbers into\n",
      "the string text that it represents. \n",
      "\n",
      "Please enter the Unicode-encoded message: 83 116 114 105 110 103 115 32 97 114 101 32 70 117 110 33\n",
      "\n",
      "The decoded message is: Strings are Fun!\n"
     ]
    }
   ],
   "source": [
    "def main():\n",
    "    print(\"This program converts a sequence of Unicode numbers into\")\n",
    "    print(\"the string text that it represents. \\n\")\n",
    "    \n",
    "    # Get the message to encode\n",
    "    inString = input(\"Please enter the Unicode-encoded message: \")\n",
    "    \n",
    "    # Loop through each substring and build Unicode message\n",
    "    message = \"\"\n",
    "    for numStr in inString.split():\n",
    "        codeNum = int(numStr)            #convert digits to a number \n",
    "        message = message + chr(codeNum) #concatenate character to message\n",
    "        \n",
    "    print(\"\\nThe decoded message is:\", message)\n",
    "    \n",
    "main()    "
   ]
  },
  {
   "cell_type": "code",
   "execution_count": 12,
   "metadata": {},
   "outputs": [
    {
     "name": "stdout",
     "output_type": "stream",
     "text": [
      "Hello, i am here\n",
      "Hello, I Am Here\n",
      "hello, i am here\n",
      "HELLO, I AM HERE\n",
      "Hello, you am here\n",
      "       Hello, I am here       \n",
      "3\n",
      "5\n",
      "Number one the Larch\n",
      "Numberwhy onewhy thewhy Larch\n"
     ]
    }
   ],
   "source": [
    "s = 'Hello, I am here'\n",
    "print(s.capitalize())\n",
    "print(s.title())\n",
    "print(s.lower())\n",
    "print(s.upper())\n",
    "print(s.replace(\"I\",\"you\"))\n",
    "print(s.center(30))\n",
    "print(s.count('e'))\n",
    "print(s.find(','))\n",
    "print(' '.join([\"Number\", \"one\", \"the\", \"Larch\"]))\n",
    "print('why '.join([\"Number\", \"one\", \"the\", \"Larch\"]))"
   ]
  },
  {
   "cell_type": "code",
   "execution_count": 15,
   "metadata": {},
   "outputs": [
    {
     "data": {
      "text/html": [
       "<div>\n",
       "<style scoped>\n",
       "    .dataframe tbody tr th:only-of-type {\n",
       "        vertical-align: middle;\n",
       "    }\n",
       "\n",
       "    .dataframe tbody tr th {\n",
       "        vertical-align: top;\n",
       "    }\n",
       "\n",
       "    .dataframe thead th {\n",
       "        text-align: right;\n",
       "    }\n",
       "</style>\n",
       "<table border=\"1\" class=\"dataframe\">\n",
       "  <thead>\n",
       "    <tr style=\"text-align: right;\">\n",
       "      <th></th>\n",
       "      <th>Method</th>\n",
       "      <th>Meaning</th>\n",
       "    </tr>\n",
       "  </thead>\n",
       "  <tbody>\n",
       "    <tr>\n",
       "      <th>0</th>\n",
       "      <td>s.capitalize()</td>\n",
       "      <td>Copy of s, first character capitalized</td>\n",
       "    </tr>\n",
       "    <tr>\n",
       "      <th>1</th>\n",
       "      <td>s.center(width)</td>\n",
       "      <td>Copy of s, centered by width</td>\n",
       "    </tr>\n",
       "    <tr>\n",
       "      <th>2</th>\n",
       "      <td>s.count(sub)</td>\n",
       "      <td>count occurences of sub in s</td>\n",
       "    </tr>\n",
       "    <tr>\n",
       "      <th>3</th>\n",
       "      <td>s.find(sub)</td>\n",
       "      <td>finds first position of sub in s</td>\n",
       "    </tr>\n",
       "    <tr>\n",
       "      <th>4</th>\n",
       "      <td>s.join(list)</td>\n",
       "      <td>Concatinates list as string, s as seperator</td>\n",
       "    </tr>\n",
       "    <tr>\n",
       "      <th>5</th>\n",
       "      <td>s.ljust(width)</td>\n",
       "      <td>Like center but left justified</td>\n",
       "    </tr>\n",
       "    <tr>\n",
       "      <th>6</th>\n",
       "      <td>s.lower()</td>\n",
       "      <td>copy of s but all lowercase</td>\n",
       "    </tr>\n",
       "    <tr>\n",
       "      <th>7</th>\n",
       "      <td>s.lstrip</td>\n",
       "      <td>copy of s without leading space</td>\n",
       "    </tr>\n",
       "    <tr>\n",
       "      <th>8</th>\n",
       "      <td>s.replace(oldsub, newsub)</td>\n",
       "      <td>replaces occurences of oldsub with newsub</td>\n",
       "    </tr>\n",
       "    <tr>\n",
       "      <th>9</th>\n",
       "      <td>s.rfind(sub)</td>\n",
       "      <td>like find but returns rightmost position</td>\n",
       "    </tr>\n",
       "    <tr>\n",
       "      <th>10</th>\n",
       "      <td>s.rjust(width)</td>\n",
       "      <td>like center but right-justified</td>\n",
       "    </tr>\n",
       "    <tr>\n",
       "      <th>11</th>\n",
       "      <td>s.rstrip()</td>\n",
       "      <td>copy of s but end space removed</td>\n",
       "    </tr>\n",
       "    <tr>\n",
       "      <th>12</th>\n",
       "      <td>s.split()</td>\n",
       "      <td>splits s into list of substrings</td>\n",
       "    </tr>\n",
       "    <tr>\n",
       "      <th>13</th>\n",
       "      <td>s.title()</td>\n",
       "      <td>copy of s but first character of each word cap...</td>\n",
       "    </tr>\n",
       "    <tr>\n",
       "      <th>14</th>\n",
       "      <td>s.upper()</td>\n",
       "      <td>copy of s with all characters converted uppercase</td>\n",
       "    </tr>\n",
       "  </tbody>\n",
       "</table>\n",
       "</div>"
      ],
      "text/plain": [
       "                       Method  \\\n",
       "0              s.capitalize()   \n",
       "1             s.center(width)   \n",
       "2                s.count(sub)   \n",
       "3                 s.find(sub)   \n",
       "4                s.join(list)   \n",
       "5              s.ljust(width)   \n",
       "6                   s.lower()   \n",
       "7                    s.lstrip   \n",
       "8   s.replace(oldsub, newsub)   \n",
       "9                s.rfind(sub)   \n",
       "10             s.rjust(width)   \n",
       "11                 s.rstrip()   \n",
       "12                  s.split()   \n",
       "13                  s.title()   \n",
       "14                  s.upper()   \n",
       "\n",
       "                                              Meaning  \n",
       "0              Copy of s, first character capitalized  \n",
       "1                        Copy of s, centered by width  \n",
       "2                        count occurences of sub in s  \n",
       "3                    finds first position of sub in s  \n",
       "4         Concatinates list as string, s as seperator  \n",
       "5                      Like center but left justified  \n",
       "6                         copy of s but all lowercase  \n",
       "7                     copy of s without leading space  \n",
       "8           replaces occurences of oldsub with newsub  \n",
       "9            like find but returns rightmost position  \n",
       "10                    like center but right-justified  \n",
       "11                    copy of s but end space removed  \n",
       "12                   splits s into list of substrings  \n",
       "13  copy of s but first character of each word cap...  \n",
       "14  copy of s with all characters converted uppercase  "
      ]
     },
     "execution_count": 15,
     "metadata": {},
     "output_type": "execute_result"
    }
   ],
   "source": [
    "#Basic methods for strings:\n",
    "\n",
    "import pandas as pd\n",
    "data = [[\"s.capitalize()\",\"Copy of s, first character capitalized\"],[\"s.center(width)\",\"Copy of s, centered by width\"],[\"s.count(sub)\",\"count occurences of sub in s\"],[\"s.find(sub)\",\"finds first position of sub in s\"],[\"s.join(list)\",\"Concatinates list as string, s as seperator\"],[\"s.ljust(width)\",\"Like center but left justified\"],[\"s.lower()\",\"copy of s but all lowercase\"],[\"s.lstrip\",\"copy of s without leading space\"],[\"s.replace(oldsub, newsub)\",\"replaces occurences of oldsub with newsub\"],[\"s.rfind(sub)\",\"like find but returns rightmost position\"],[\"s.rjust(width)\",\"like center but right-justified\"],[\"s.rstrip()\",\"copy of s but end space removed\"],[\"s.split()\",\"splits s into list of substrings\"],[\"s.title()\",\"copy of s but first character of each word capitalized\"],[\"s.upper()\",\"copy of s with all characters converted uppercase\"]]\n",
    "pd.DataFrame(data, columns=[\"Method\",\"Meaning\"])"
   ]
  },
  {
   "cell_type": "code",
   "execution_count": 18,
   "metadata": {},
   "outputs": [
    {
     "name": "stdout",
     "output_type": "stream",
     "text": [
      "[1, 4, 9, 16, 25, 36, 49, 64, 81, 100, 121, 144, 169, 196, 225, 256, 289, 324, 361, 400, 441, 484, 529, 576, 625, 676, 729, 784, 841, 900, 961, 1024, 1089, 1156, 1225, 1296, 1369, 1444, 1521, 1600, 1681, 1764, 1849, 1936, 2025, 2116, 2209, 2304, 2401, 2500, 2601, 2704, 2809, 2916, 3025, 3136, 3249, 3364, 3481, 3600, 3721, 3844, 3969, 4096, 4225, 4356, 4489, 4624, 4761, 4900, 5041, 5184, 5329, 5476, 5625, 5776, 5929, 6084, 6241, 6400, 6561, 6724, 6889, 7056, 7225, 7396, 7569, 7744, 7921, 8100, 8281, 8464, 8649, 8836, 9025, 9216, 9409, 9604, 9801, 10000]\n"
     ]
    }
   ],
   "source": [
    "#mini program to make a list of squared numbers going up to 100 (from 1)\n",
    "squares = []\n",
    "for x in range(1,101):\n",
    "    squares.append(x*x)\n",
    "print(squares)"
   ]
  },
  {
   "cell_type": "code",
   "execution_count": 19,
   "metadata": {},
   "outputs": [
    {
     "name": "stdout",
     "output_type": "stream",
     "text": [
      "This program converts a sequence of Unicode numbers into\n",
      "the string text that it represents (efficient version using list accumulator). \n",
      "\n",
      "Please enter the Unicode-encoded message: 83 116 114 105 110 103 115 32 97 114 101 32 70 117 110 33\n",
      "\n",
      "The decoded message is: Strings are Fun!\n"
     ]
    }
   ],
   "source": [
    "#same version of decoder from before, just now we use a list to concatinate characters instead of many strings\n",
    "\n",
    "def main():\n",
    "    print(\"This program converts a sequence of Unicode numbers into\")\n",
    "    print(\"the string text that it represents (efficient version using list accumulator). \\n\")\n",
    "    \n",
    "    # Get the message to encode\n",
    "    inString = input(\"Please enter the Unicode-encoded message: \")\n",
    "    \n",
    "    # Loop through each substring and build Unicode message\n",
    "    chars = []\n",
    "    for numStr in inString.split():\n",
    "        codeNum = int(numStr)            #convert digits to a number \n",
    "        chars.append(chr(codeNum))       #accumulates new character into list\n",
    "    \n",
    "    message = \"\".join(chars)\n",
    "    print(\"\\nThe decoded message is:\", message)\n",
    "    \n",
    "main() \n",
    "\n",
    "#both string concatination and append/join techniques are efficient"
   ]
  },
  {
   "cell_type": "markdown",
   "metadata": {},
   "source": [
    "- encryption: 'process of encoding information for the purpose of keeping it a secret or transmitting it privatly\n",
    "- cryptography: sub-field of mathematics and comp-sci, study of encryption methods\n",
    "- substitution ciphor: weak form of encryption given a plaintext and replacing each character by a ciphor aplhabet \n",
    "  - plaintext: original message\n",
    "  - cipher alphabet: characters to use as replacements for old characters\n",
    "  - ciphertext: new message\n",
    "- private key (shared key) system: same key is used for encrypting and decrypting messages.\n",
    "- public key system: having seperate/related keys for encryption/decryption. "
   ]
  },
  {
   "cell_type": "code",
   "execution_count": 21,
   "metadata": {},
   "outputs": [
    {
     "name": "stdout",
     "output_type": "stream",
     "text": [
      "Enter a date (mm/dd/yyyy): 08/21/1999\n",
      "The converted date is: August 21, 1999\n"
     ]
    }
   ],
   "source": [
    "#Date conversion program\n",
    "\n",
    "def main():\n",
    "    #get the date\n",
    "    dateStr = input(\"Enter a date (mm/dd/yyyy): \")\n",
    "    \n",
    "    #split into components\n",
    "    monthStr, dayStr, yearStr = dateStr.split(\"/\")\n",
    "    \n",
    "    #convert monthStr to the month name\n",
    "    months = [\"January\", \"February\", \"March\", \"April\", \"May\", \"June\", \"July\", \"August\", \"September\", \"October\", \"November\", \"December\"]\n",
    "    \n",
    "    monthStr = months[int(monthStr)-1]\n",
    "    \n",
    "    #Output result in month day, year format\n",
    "    print(\"The converted date is:\", monthStr, dayStr+',', yearStr)\n",
    "\n",
    "main()"
   ]
  },
  {
   "cell_type": "code",
   "execution_count": 23,
   "metadata": {},
   "outputs": [
    {
     "data": {
      "text/html": [
       "<div>\n",
       "<style scoped>\n",
       "    .dataframe tbody tr th:only-of-type {\n",
       "        vertical-align: middle;\n",
       "    }\n",
       "\n",
       "    .dataframe tbody tr th {\n",
       "        vertical-align: top;\n",
       "    }\n",
       "\n",
       "    .dataframe thead th {\n",
       "        text-align: right;\n",
       "    }\n",
       "</style>\n",
       "<table border=\"1\" class=\"dataframe\">\n",
       "  <thead>\n",
       "    <tr style=\"text-align: right;\">\n",
       "      <th></th>\n",
       "      <th>Function</th>\n",
       "      <th>Meaning</th>\n",
       "    </tr>\n",
       "  </thead>\n",
       "  <tbody>\n",
       "    <tr>\n",
       "      <th>0</th>\n",
       "      <td>float(&lt;expr&gt;)</td>\n",
       "      <td>convert expr to float</td>\n",
       "    </tr>\n",
       "    <tr>\n",
       "      <th>1</th>\n",
       "      <td>int(&lt;expr&gt;)</td>\n",
       "      <td>convert expr to integer</td>\n",
       "    </tr>\n",
       "    <tr>\n",
       "      <th>2</th>\n",
       "      <td>str(&lt;expr&gt;)</td>\n",
       "      <td>convert expr to string</td>\n",
       "    </tr>\n",
       "    <tr>\n",
       "      <th>3</th>\n",
       "      <td>eval(&lt;string&gt;)</td>\n",
       "      <td>evaluate string as an expression</td>\n",
       "    </tr>\n",
       "  </tbody>\n",
       "</table>\n",
       "</div>"
      ],
      "text/plain": [
       "         Function                           Meaning\n",
       "0   float(<expr>)             convert expr to float\n",
       "1     int(<expr>)           convert expr to integer\n",
       "2     str(<expr>)            convert expr to string\n",
       "3  eval(<string>)  evaluate string as an expression"
      ]
     },
     "execution_count": 23,
     "metadata": {},
     "output_type": "execute_result"
    }
   ],
   "source": [
    "#Basic functions for casting:\n",
    "\n",
    "import pandas as pd\n",
    "data = [[\"float(<expr>)\",\"convert expr to float\"],[\"int(<expr>)\",\"convert expr to integer\"],[\"str(<expr>)\",\"convert expr to string\"],[\"eval(<string>)\",\"evaluate string as an expression\"]]\n",
    "pd.DataFrame(data, columns=[\"Function\",\"Meaning\"])"
   ]
  },
  {
   "cell_type": "markdown",
   "metadata": {},
   "source": [
    "#String formatting form\n",
    "<template-string>.format(<values>)\n",
    "{<index>:<format-specifier>}\n",
    "0.2f    <width>.<precision><type>"
   ]
  },
  {
   "cell_type": "code",
   "execution_count": 2,
   "metadata": {},
   "outputs": [
    {
     "data": {
      "text/plain": [
       "'Hello Mr. Smith, you my have won $10000'"
      ]
     },
     "execution_count": 2,
     "metadata": {},
     "output_type": "execute_result"
    }
   ],
   "source": [
    "\"Hello {0} {1}, you my have won ${2}\".format(\"Mr.\",\"Smith\", 10000)"
   ]
  },
  {
   "cell_type": "code",
   "execution_count": 4,
   "metadata": {},
   "outputs": [
    {
     "data": {
      "text/plain": [
       "'This int,     7, was placed in a field of width 5'"
      ]
     },
     "execution_count": 4,
     "metadata": {},
     "output_type": "execute_result"
    }
   ],
   "source": [
    "\"This int, {0:5}, was placed in a field of width 5\".format(7)"
   ]
  },
  {
   "cell_type": "code",
   "execution_count": 5,
   "metadata": {},
   "outputs": [
    {
     "data": {
      "text/plain": [
       "'This int,          7, was placed in a field of width 10'"
      ]
     },
     "execution_count": 5,
     "metadata": {},
     "output_type": "execute_result"
    }
   ],
   "source": [
    "\"This int, {0:10}, was placed in a field of width 10\".format(7)"
   ]
  },
  {
   "cell_type": "code",
   "execution_count": 6,
   "metadata": {},
   "outputs": [
    {
     "data": {
      "text/plain": [
       "'This float,     3.1416, has width 10 and precision 5'"
      ]
     },
     "execution_count": 6,
     "metadata": {},
     "output_type": "execute_result"
    }
   ],
   "source": [
    "\"This float, {0:10.5}, has width 10 and precision 5\".format(3.1415926)"
   ]
  },
  {
   "cell_type": "code",
   "execution_count": 7,
   "metadata": {},
   "outputs": [
    {
     "data": {
      "text/plain": [
       "'This float,    3.14159, is fixed at 5 decimal places'"
      ]
     },
     "execution_count": 7,
     "metadata": {},
     "output_type": "execute_result"
    }
   ],
   "source": [
    "\"This float, {0:10.5f}, is fixed at 5 decimal places\".format(3.1415926)"
   ]
  },
  {
   "cell_type": "code",
   "execution_count": 8,
   "metadata": {},
   "outputs": [
    {
     "data": {
      "text/plain": [
       "'This float, 3.1416, has width 0 and precision 5'"
      ]
     },
     "execution_count": 8,
     "metadata": {},
     "output_type": "execute_result"
    }
   ],
   "source": [
    "\"This float, {0:0.5}, has width 0 and precision 5\".format(3.1415926)"
   ]
  },
  {
   "cell_type": "code",
   "execution_count": 9,
   "metadata": {},
   "outputs": [
    {
     "data": {
      "text/plain": [
       "'Compare 3.14 and 3.1400000000000001243'"
      ]
     },
     "execution_count": 9,
     "metadata": {},
     "output_type": "execute_result"
    }
   ],
   "source": [
    "\"Compare {0} and {0:0.20}\".format(3.14)"
   ]
  },
  {
   "cell_type": "code",
   "execution_count": 10,
   "metadata": {},
   "outputs": [
    {
     "data": {
      "text/plain": [
       "'left justification: Hi!  '"
      ]
     },
     "execution_count": 10,
     "metadata": {},
     "output_type": "execute_result"
    }
   ],
   "source": [
    "\"left justification: {0:<5}\".format(\"Hi!\")"
   ]
  },
  {
   "cell_type": "code",
   "execution_count": 11,
   "metadata": {},
   "outputs": [
    {
     "data": {
      "text/plain": [
       "'right justification:   Hi!'"
      ]
     },
     "execution_count": 11,
     "metadata": {},
     "output_type": "execute_result"
    }
   ],
   "source": [
    "\"right justification: {0:>5}\".format(\"Hi!\")"
   ]
  },
  {
   "cell_type": "code",
   "execution_count": 12,
   "metadata": {},
   "outputs": [
    {
     "data": {
      "text/plain": [
       "'centered:  Hi! '"
      ]
     },
     "execution_count": 12,
     "metadata": {},
     "output_type": "execute_result"
    }
   ],
   "source": [
    "\"centered: {0:^5}\".format(\"Hi!\")"
   ]
  },
  {
   "cell_type": "code",
   "execution_count": 14,
   "metadata": {},
   "outputs": [
    {
     "name": "stdout",
     "output_type": "stream",
     "text": [
      "Change Counter\n",
      "\n",
      "Please enter the count of each coin type.\n",
      "Quarters: 4\n",
      "Dimes: 3\n",
      "Nickles: 1\n",
      "Pennies: 2\n",
      "The total value of your change is $1.37\n"
     ]
    }
   ],
   "source": [
    "#Better version of the change calculator\n",
    "#Program to calculate the value of some change in dollars\n",
    "#This version represents the total of cash in cents\n",
    "\n",
    "def main():\n",
    "    print(\"Change Counter\\n\")\n",
    "    print(\"Please enter the count of each coin type.\")\n",
    "    quarters = int(input(\"Quarters: \"))\n",
    "    dimes = int(input(\"Dimes: \"))\n",
    "    nickels = int(input(\"Nickles: \"))\n",
    "    pennies = int(input(\"Pennies: \"))\n",
    "    \n",
    "    total = quarters * 25 + dimes * 10 + nickels * 5 + pennies\n",
    "    \n",
    "    print(\"The total value of your change is ${0}.{1:0>2}\".format(total//100, total%100))\n",
    "\n",
    "main()"
   ]
  },
  {
   "cell_type": "code",
   "execution_count": 17,
   "metadata": {},
   "outputs": [
    {
     "data": {
      "text/html": [
       "<div>\n",
       "<style scoped>\n",
       "    .dataframe tbody tr th:only-of-type {\n",
       "        vertical-align: middle;\n",
       "    }\n",
       "\n",
       "    .dataframe tbody tr th {\n",
       "        vertical-align: top;\n",
       "    }\n",
       "\n",
       "    .dataframe thead th {\n",
       "        text-align: right;\n",
       "    }\n",
       "</style>\n",
       "<table border=\"1\" class=\"dataframe\">\n",
       "  <thead>\n",
       "    <tr style=\"text-align: right;\">\n",
       "      <th></th>\n",
       "      <th>File Operation</th>\n",
       "      <th>Meaning</th>\n",
       "    </tr>\n",
       "  </thead>\n",
       "  <tbody>\n",
       "    <tr>\n",
       "      <th>0</th>\n",
       "      <td>&lt;file&gt;.read()</td>\n",
       "      <td>Returns entire file content as single string</td>\n",
       "    </tr>\n",
       "    <tr>\n",
       "      <th>1</th>\n",
       "      <td>&lt;file&gt;.readline()</td>\n",
       "      <td>returns next line of file (all text up to and ...</td>\n",
       "    </tr>\n",
       "    <tr>\n",
       "      <th>2</th>\n",
       "      <td>&lt;file&gt;.readlines()</td>\n",
       "      <td>returns list of remaining lines in file (each ...</td>\n",
       "    </tr>\n",
       "  </tbody>\n",
       "</table>\n",
       "</div>"
      ],
      "text/plain": [
       "       File Operation                                            Meaning\n",
       "0       <file>.read()       Returns entire file content as single string\n",
       "1   <file>.readline()  returns next line of file (all text up to and ...\n",
       "2  <file>.readlines()  returns list of remaining lines in file (each ..."
      ]
     },
     "execution_count": 17,
     "metadata": {},
     "output_type": "execute_result"
    }
   ],
   "source": [
    "import pandas as pd\n",
    "data = [[\"<file>.read()\",\"Returns entire file content as single string\"],[\"<file>.readline()\",\"returns next line of file (all text up to and including next line)\"],[\"<file>.readlines()\",\"returns list of remaining lines in file (each item being a line)\"]]\n",
    "pd.DataFrame(data, columns=[\"File Operation\",\"Meaning\"])"
   ]
  },
  {
   "cell_type": "code",
   "execution_count": 18,
   "metadata": {},
   "outputs": [
    {
     "name": "stdout",
     "output_type": "stream",
     "text": [
      "Enter filename: EXAMPLE.txt\n",
      "Hey guys, good notes?\n",
      "I hope so.\n",
      "Patrik Sokolowski\n"
     ]
    }
   ],
   "source": [
    "#example program that prints content of file into screen\n",
    "#I made a txt file named EXAMPLE.txt and put it with my jupyter python note files.\n",
    "\n",
    "def main():\n",
    "    fname = input(\"Enter filename: \")\n",
    "    infile = open(fname, \"r\")\n",
    "    data = infile.read()\n",
    "    print(data)\n",
    "    \n",
    "main()"
   ]
  },
  {
   "cell_type": "markdown",
   "metadata": {},
   "source": [
    "# Chapter 5 Summary\n",
    "\n",
    "- Strings are sequences of characters. String literals can be delimited with either single or double quotes\n",
    "- Strings and lists can be manipulated by operations for concatination (+), repitition (*), indexing([]), slicing([:]), and length(len())\n",
    "- Lists are more general than strings\n",
    "    - Strings are always sequences of characters, lists can contain anything however\n",
    "    - Lists are mutable, Strings are immutable, lists can be modified by assingning new values\n",
    "- Strings are represented by numeric codes. ASCII and Unicode are compatible standards used for specifying and correspondance. \n",
    "- Process to keep data private is encryption. 2 types of encryption types (public key and private key)\n",
    "- Program input/output often involves string processing. String formatting is useful for nicely formatted output.\n",
    "- Text files are multi-line strings stored in secondary memory. "
   ]
  }
 ],
 "metadata": {
  "kernelspec": {
   "display_name": "Python 3",
   "language": "python",
   "name": "python3"
  },
  "language_info": {
   "codemirror_mode": {
    "name": "ipython",
    "version": 3
   },
   "file_extension": ".py",
   "mimetype": "text/x-python",
   "name": "python",
   "nbconvert_exporter": "python",
   "pygments_lexer": "ipython3",
   "version": "3.7.1"
  }
 },
 "nbformat": 4,
 "nbformat_minor": 2
}

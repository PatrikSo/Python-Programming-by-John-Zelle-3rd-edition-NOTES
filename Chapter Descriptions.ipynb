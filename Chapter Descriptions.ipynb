{
 "cells": [
  {
   "cell_type": "markdown",
   "metadata": {},
   "source": [
    "#Python Programming Chapter Descriptions\n",
    "\n",
    "- Chapter 1 - Computers and Programs\n",
    "- Chapter 2 - Writing Simple Programs\n",
    "- Chapter 3 - COmputing with Numbers\n",
    "- Chapter 4 - Objects and Graphics\n",
    "- Chapter 5 - Sequences: Strings, Lists, and Files\n",
    "- Chapter 6 - Defining Functions\n",
    "- Chapter 7 - Decision Structures\n",
    "- Chapter 8 - Loop Structures and Booleans\n",
    "- Chapter 9 - Simulation and Design\n",
    "- Chapter 10 - Defining Classes\n",
    "- Chapter 11 - Data Collections\n",
    "- Chapter 12 - Object-Oriented Design\n",
    "- Chapter 13 - Algorithm Design and Recursion"
   ]
  }
 ],
 "metadata": {
  "kernelspec": {
   "display_name": "Python 3",
   "language": "python",
   "name": "python3"
  },
  "language_info": {
   "codemirror_mode": {
    "name": "ipython",
    "version": 3
   },
   "file_extension": ".py",
   "mimetype": "text/x-python",
   "name": "python",
   "nbconvert_exporter": "python",
   "pygments_lexer": "ipython3",
   "version": "3.7.1"
  }
 },
 "nbformat": 4,
 "nbformat_minor": 2
}

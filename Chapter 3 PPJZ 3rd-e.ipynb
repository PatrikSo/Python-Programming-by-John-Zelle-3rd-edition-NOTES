{
 "cells": [
  {
   "cell_type": "markdown",
   "metadata": {},
   "source": [
    "# Chapter 3 Summary\n",
    "\n",
    "###Operator and Operations:\n",
    "1. \"+     addition\"\n",
    "2. \"-     subtraction\"\n",
    "3. \"*     Multiplication\"\n",
    "4. \"/     float division\"\n",
    "5. \"**    exponentiation\"\n",
    "6. \"abs() absolute value\"\n",
    "7. \"//    integer division\"\n",
    "8. \"%     remainder\"\n"
   ]
  },
  {
   "cell_type": "code",
   "execution_count": 1,
   "metadata": {},
   "outputs": [
    {
     "name": "stdout",
     "output_type": "stream",
     "text": [
      "Change Counter\n",
      "\n",
      "Please enter the count of each coin type. \n",
      "Quarters: 3\n",
      "Dimes: 2\n",
      "Nickles: 3\n",
      "Pennies: 2\n",
      "\n",
      "The total value of your change is 1.12\n"
     ]
    }
   ],
   "source": [
    "def main():\n",
    "    print(\"Change Counter\");\n",
    "    print();\n",
    "    print(\"Please enter the count of each coin type. \");\n",
    "    quarters = eval(input(\"Quarters: \"));\n",
    "    dimes = eval(input(\"Dimes: \"));\n",
    "    nickles = eval(input(\"Nickles: \"));\n",
    "    pennies = eval(input(\"Pennies: \"));\n",
    "    total = quarters * .25 + dimes * .10 + nickles * .05 + pennies * .01;\n",
    "    print();\n",
    "    print(\"The total value of your change is\", total);\n",
    "\n",
    "main();"
   ]
  },
  {
   "cell_type": "code",
   "execution_count": 6,
   "metadata": {},
   "outputs": [
    {
     "name": "stdout",
     "output_type": "stream",
     "text": [
      "<class 'int'>\n",
      "<class 'float'>\n",
      "<class 'str'>\n",
      "<class 'bool'>\n"
     ]
    }
   ],
   "source": [
    "print(type(3));\n",
    "print(type(3.0));\n",
    "print(type(\"word\"));\n",
    "print(type(True));"
   ]
  },
  {
   "cell_type": "code",
   "execution_count": 10,
   "metadata": {},
   "outputs": [
    {
     "name": "stdout",
     "output_type": "stream",
     "text": [
      "3.3333333333333335\n",
      "3.3333333333333335\n",
      "2.0\n",
      "3\n",
      "3.0\n",
      "1\n",
      "1.0\n"
     ]
    }
   ],
   "source": [
    "print(10 / 3);\n",
    "print(10.0 / 3.0);\n",
    "print(10 / 5);\n",
    "print(10 // 3);\n",
    "print(10.0 // 3.0);\n",
    "print(10 % 3);\n",
    "print(10.0 % 3.0);"
   ]
  },
  {
   "cell_type": "code",
   "execution_count": 11,
   "metadata": {},
   "outputs": [
    {
     "name": "stdout",
     "output_type": "stream",
     "text": [
      "4\n",
      "4.0\n"
     ]
    }
   ],
   "source": [
    "print(int(4.5));\n",
    "print(float(4));"
   ]
  },
  {
   "cell_type": "code",
   "execution_count": 12,
   "metadata": {},
   "outputs": [
    {
     "name": "stdout",
     "output_type": "stream",
     "text": [
      "3\n",
      "4\n"
     ]
    }
   ],
   "source": [
    "print(round(3.14));\n",
    "print(round(3.67));"
   ]
  },
  {
   "cell_type": "code",
   "execution_count": 13,
   "metadata": {},
   "outputs": [
    {
     "name": "stdout",
     "output_type": "stream",
     "text": [
      "3.14\n",
      "3.142\n"
     ]
    }
   ],
   "source": [
    "pi = 3.1415926;\n",
    "print(round(pi, 2));\n",
    "print(round(pi, 3));"
   ]
  },
  {
   "cell_type": "code",
   "execution_count": 15,
   "metadata": {},
   "outputs": [
    {
     "name": "stdout",
     "output_type": "stream",
     "text": [
      "32\n",
      "32.0\n"
     ]
    }
   ],
   "source": [
    "print(int(\"32\"));\n",
    "print(float(\"32\"));"
   ]
  },
  {
   "cell_type": "code",
   "execution_count": 16,
   "metadata": {},
   "outputs": [
    {
     "name": "stdout",
     "output_type": "stream",
     "text": [
      "This program finds the real solutions to quadratics\n",
      "\n",
      "Enter coefficient a: 3\n",
      "Enter coefficient b: 4\n",
      "Enter coefficient c: -2\n",
      "\n",
      "The solutions are:  0.38742588672279316 -1.7207592200561266\n"
     ]
    }
   ],
   "source": [
    "import math\n",
    "\n",
    "def main():\n",
    "    print(\"This program finds the real solutions to quadratics\");\n",
    "    print();\n",
    "    \n",
    "    a = float(input(\"Enter coefficient a: \"));\n",
    "    b = float(input(\"Enter coefficient b: \"));\n",
    "    c = float(input(\"Enter coefficient c: \"));\n",
    "    \n",
    "    discRoot = math.sqrt(b*b - 4 * a * c);\n",
    "    root1 = (-b + discRoot) / (2 * a);\n",
    "    root2 = (-b - discRoot) / (2 * a);\n",
    "    \n",
    "    print();\n",
    "    print(\"The solutions are: \", root1, root2);\n",
    "    \n",
    "main();"
   ]
  },
  {
   "cell_type": "code",
   "execution_count": 21,
   "metadata": {},
   "outputs": [
    {
     "name": "stdout",
     "output_type": "stream",
     "text": [
      "720\n"
     ]
    }
   ],
   "source": [
    "\"Factorial of 6\"\n",
    "fact = 1;\n",
    "for factor in [6,5,4,3,2,1]:\n",
    "    fact = fact * factor\n",
    "\n",
    "print(fact);"
   ]
  },
  {
   "cell_type": "code",
   "execution_count": 23,
   "metadata": {},
   "outputs": [
    {
     "name": "stdout",
     "output_type": "stream",
     "text": [
      "[0, 1, 2, 3, 4, 5, 6, 7, 8, 9]\n",
      "[5, 6, 7, 8, 9]\n",
      "[5, 8]\n"
     ]
    },
    {
     "data": {
      "text/plain": [
       "'range( start, end (not included), step)'"
      ]
     },
     "execution_count": 23,
     "metadata": {},
     "output_type": "execute_result"
    }
   ],
   "source": [
    "print(list(range(10)));\n",
    "print(list(range(5,10)));\n",
    "print(list(range(5, 10, 3)));\n",
    "\"range( start, end (not included), step)\""
   ]
  },
  {
   "cell_type": "code",
   "execution_count": 24,
   "metadata": {},
   "outputs": [
    {
     "name": "stdout",
     "output_type": "stream",
     "text": [
      "Please enter a whole number: 6\n",
      "The factorial of  6 is  720\n"
     ]
    }
   ],
   "source": [
    "\"factorial method\"\n",
    "\n",
    "def main():\n",
    "    n = int(input(\"Please enter a whole number: \"));\n",
    "    fact = 1\n",
    "    for factor in range (n, 1, -1):\n",
    "        fact = fact * factor\n",
    "    print(\"The factorial of \", n , \"is \", fact);\n",
    "\n",
    "main();"
   ]
  },
  {
   "cell_type": "markdown",
   "metadata": {},
   "source": [
    "# Chapter 3 End Summary\n",
    "\n",
    "1. Data types are a particular type of data in a computer. Data types determine it's values and functionality\n",
    "\n",
    "2. Python has int and float for representing numerical data types\n",
    "\n",
    "3. Python automatically converts some data types into others in some operations. Ex: in a mixed type expression involving ints and floats, python converts the ints to floats then does float arithmatic\n",
    "\n",
    "4. Type conversion functions should be used in place of eval in some situations\n",
    "\n",
    "5. Additional math functions are defined in Pythons math library\n"
   ]
  }
 ],
 "metadata": {
  "kernelspec": {
   "display_name": "Python 3",
   "language": "python",
   "name": "python3"
  },
  "language_info": {
   "codemirror_mode": {
    "name": "ipython",
    "version": 3
   },
   "file_extension": ".py",
   "mimetype": "text/x-python",
   "name": "python",
   "nbconvert_exporter": "python",
   "pygments_lexer": "ipython3",
   "version": "3.7.1"
  }
 },
 "nbformat": 4,
 "nbformat_minor": 2
}

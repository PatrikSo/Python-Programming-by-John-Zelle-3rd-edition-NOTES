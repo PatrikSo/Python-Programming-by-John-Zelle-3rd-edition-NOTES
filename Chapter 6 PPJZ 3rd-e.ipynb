{
 "cells": [
  {
   "cell_type": "markdown",
   "metadata": {},
   "source": [
    "# Chapter 6\n",
    "\n",
    "FUNction fun"
   ]
  },
  {
   "cell_type": "code",
   "execution_count": 8,
   "metadata": {},
   "outputs": [
    {
     "ename": "ModuleNotFoundError",
     "evalue": "No module named 'graphics'",
     "output_type": "error",
     "traceback": [
      "\u001b[1;31m---------------------------------------------------------------------------\u001b[0m",
      "\u001b[1;31mModuleNotFoundError\u001b[0m                       Traceback (most recent call last)",
      "\u001b[1;32m<ipython-input-8-d78f2a5b205c>\u001b[0m in \u001b[0;36m<module>\u001b[1;34m\u001b[0m\n\u001b[1;32m----> 1\u001b[1;33m \u001b[1;32mimport\u001b[0m \u001b[0mgraphics\u001b[0m\u001b[1;33m\u001b[0m\u001b[1;33m\u001b[0m\u001b[0m\n\u001b[0m\u001b[0;32m      2\u001b[0m \u001b[1;33m\u001b[0m\u001b[0m\n\u001b[0;32m      3\u001b[0m \u001b[1;32mdef\u001b[0m \u001b[0mmain\u001b[0m\u001b[1;33m(\u001b[0m\u001b[1;33m)\u001b[0m\u001b[1;33m:\u001b[0m\u001b[1;33m\u001b[0m\u001b[1;33m\u001b[0m\u001b[0m\n\u001b[0;32m      4\u001b[0m     \u001b[1;31m#Introduction\u001b[0m\u001b[1;33m\u001b[0m\u001b[1;33m\u001b[0m\u001b[1;33m\u001b[0m\u001b[0m\n\u001b[0;32m      5\u001b[0m     \u001b[0mprint\u001b[0m\u001b[1;33m(\u001b[0m\u001b[1;34m\"This program plots the growth of a 10-year investment.\"\u001b[0m\u001b[1;33m)\u001b[0m\u001b[1;33m\u001b[0m\u001b[1;33m\u001b[0m\u001b[0m\n",
      "\u001b[1;31mModuleNotFoundError\u001b[0m: No module named 'graphics'"
     ]
    }
   ],
   "source": [
    "#grphics library not supported on Jupyter\n",
    "\n",
    "import graphics \n",
    "\n",
    "def main():\n",
    "    #Introduction\n",
    "    print(\"This program plots the growth of a 10-year investment.\")\n",
    "    \n",
    "    #Get principal and interest rate\n",
    "    principal = float(input(\"Enter the initial principal: \"))\n",
    "    apr = float(input(\"Enter the annualized interest rate: \"))\n",
    "    \n",
    "    #Create a graphics window with labels on the left edge\n",
    "    win = GraphWin(\"investment Growth Chart\", 320, 240)\n",
    "    win.setBackground(\"white\")\n",
    "    win.setCoords(-1.75,-200,11.5, 10400)\n",
    "    Text(Point(-1,0),'0.0K').draw(win)\n",
    "    Text(Point(-1,2500),'2.5K').draw(win)\n",
    "    Text(Point(-1,5000),'5.0K').draw(win)\n",
    "    Text(Point(-1,7500),'7.5K').draw(win)\n",
    "    Text(Point(-1,10000),'10.0K').draw(win)\n",
    "    \n",
    "    #Draw bar for initial principal\n",
    "    bar = Rectangle(Point(0,0), Point(1, principal))\n",
    "    bar.setFill(\"green\")\n",
    "    bar.setWidth(2)\n",
    "    bar.draw(win)\n",
    "    \n",
    "    #Draw a bar for each subsequent year\n",
    "    for year in range(1, 11):\n",
    "        principal = principal * (1 + apr)\n",
    "        bar = Rectangle(Point(year,0), Point(year+1, principal))\n",
    "        bar.setFill(\"green\")\n",
    "        bar.setWidth(2)\n",
    "        bar.draw(win)\n",
    "    \n",
    "    input(\"Press <Enter> to quite.\")\n",
    "    win.close()\n",
    "\n",
    "main()"
   ]
  },
  {
   "cell_type": "code",
   "execution_count": 9,
   "metadata": {},
   "outputs": [
    {
     "name": "stdout",
     "output_type": "stream",
     "text": [
      "Happy birthday to you!\n",
      "Happy birthday to you!\n",
      "Happy birthday, dear Fred!\n",
      "Happy birthday to you!\n"
     ]
    }
   ],
   "source": [
    "def main():\n",
    "    print(\"Happy birthday to you!\")\n",
    "    print(\"Happy birthday to you!\")\n",
    "    print(\"Happy birthday, dear Fred!\")\n",
    "    print(\"Happy birthday to you!\")\n",
    "    \n",
    "main()"
   ]
  },
  {
   "cell_type": "code",
   "execution_count": 11,
   "metadata": {},
   "outputs": [
    {
     "name": "stdout",
     "output_type": "stream",
     "text": [
      "Happy birthay to you!\n",
      "Happy birthay to you!\n",
      "Happy birthday, dear Fred!\n",
      "Happy birthay to you!\n"
     ]
    }
   ],
   "source": [
    "def happy():\n",
    "    print(\"Happy birthay to you!\")\n",
    "\n",
    "def singFred():\n",
    "    happy()\n",
    "    happy()\n",
    "    print(\"Happy birthday, dear Fred!\")\n",
    "    happy()\n",
    "singFred()"
   ]
  },
  {
   "cell_type": "code",
   "execution_count": 14,
   "metadata": {},
   "outputs": [
    {
     "name": "stdout",
     "output_type": "stream",
     "text": [
      "Happy birthay to you!\n",
      "Happy birthay to you!\n",
      "Happy birthday, dear Lucy!\n",
      "Happy birthay to you!\n"
     ]
    }
   ],
   "source": [
    "def singLucy():\n",
    "    happy()\n",
    "    happy()\n",
    "    print(\"Happy birthday, dear Lucy!\")\n",
    "    happy()\n",
    "singLucy()"
   ]
  },
  {
   "cell_type": "code",
   "execution_count": 15,
   "metadata": {},
   "outputs": [
    {
     "name": "stdout",
     "output_type": "stream",
     "text": [
      "Happy birthay to you!\n",
      "Happy birthay to you!\n",
      "Happy birthday, dear Fred!\n",
      "Happy birthay to you!\n",
      "\n",
      "Happy birthay to you!\n",
      "Happy birthay to you!\n",
      "Happy birthday, dear Lucy!\n",
      "Happy birthay to you!\n"
     ]
    }
   ],
   "source": [
    "def main():\n",
    "    singFred()\n",
    "    print()\n",
    "    singLucy()\n",
    "main()"
   ]
  },
  {
   "cell_type": "code",
   "execution_count": 16,
   "metadata": {},
   "outputs": [
    {
     "name": "stdout",
     "output_type": "stream",
     "text": [
      "Happy birthay to you!\n",
      "Happy birthay to you!\n",
      "Happy Birthday, dear  Patrik.\n",
      "Happy birthay to you!\n"
     ]
    }
   ],
   "source": [
    "#More general form (optimized)\n",
    "def sing(person):\n",
    "    happy()\n",
    "    happy()\n",
    "    print(\"Happy Birthday, dear \", person + \".\")\n",
    "    happy()\n",
    "sing(\"Patrik\")"
   ]
  },
  {
   "cell_type": "code",
   "execution_count": 21,
   "metadata": {},
   "outputs": [
    {
     "name": "stdout",
     "output_type": "stream",
     "text": [
      "Happy birthay to you!\n",
      "Happy birthay to you!\n",
      "Happy Birthday, dear  Fred.\n",
      "Happy birthay to you!\n",
      "\n",
      "Happy birthay to you!\n",
      "Happy birthay to you!\n",
      "Happy Birthday, dear  Lucy.\n",
      "Happy birthay to you!\n",
      "\n",
      " ----------------------- main call -----------------------\n",
      "\n",
      "Happy birthay to you!\n",
      "Happy birthay to you!\n",
      "Happy Birthday, dear  Fred.\n",
      "Happy birthay to you!\n",
      "\n",
      "Happy birthay to you!\n",
      "Happy birthay to you!\n",
      "Happy Birthday, dear  Lucy.\n",
      "Happy birthay to you!\n",
      "\n",
      "Happy birthay to you!\n",
      "Happy birthay to you!\n",
      "Happy Birthday, dear  Elmer.\n",
      "Happy birthay to you!\n"
     ]
    }
   ],
   "source": [
    "sing(\"Fred\")\n",
    "print()\n",
    "sing(\"Lucy\")\n",
    "print()\n",
    "print(\" ----------------------- main call -----------------------\")\n",
    "print()\n",
    "def main():\n",
    "    sing(\"Fred\")\n",
    "    print()\n",
    "    sing(\"Lucy\")\n",
    "    print()\n",
    "    sing(\"Elmer\")\n",
    "    \n",
    "main()"
   ]
  },
  {
   "cell_type": "code",
   "execution_count": null,
   "metadata": {},
   "outputs": [],
   "source": [
    "#formal function definition\n",
    "\n",
    "def <name>(<formal-parameters>):\n",
    "    <body>"
   ]
  },
  {
   "cell_type": "markdown",
   "metadata": {},
   "source": [
    "### Python function call, four-step process:\n",
    "\n",
    " - 1. The calling program suspends execution at the point of the call.\n",
    " - 2. The formal parameters of the function get assigned the values supplied by the actual parameters in the call\n",
    " - 3. The body of the function is executed\n",
    " - 4. Control returns to the point just after where where the function was called\n",
    " "
   ]
  },
  {
   "cell_type": "code",
   "execution_count": null,
   "metadata": {},
   "outputs": [],
   "source": [
    "discRt = math.sqrt(b*b - 4*a*c)"
   ]
  },
  {
   "cell_type": "code",
   "execution_count": 22,
   "metadata": {},
   "outputs": [
    {
     "data": {
      "text/plain": [
       "4"
      ]
     },
     "execution_count": 22,
     "metadata": {},
     "output_type": "execute_result"
    }
   ],
   "source": [
    "#example of a function returning a value\n",
    "def square(x):\n",
    "    return x ** 2\n",
    "square(2)"
   ]
  },
  {
   "cell_type": "code",
   "execution_count": 27,
   "metadata": {},
   "outputs": [
    {
     "name": "stdout",
     "output_type": "stream",
     "text": [
      "9\n",
      "16\n",
      "25\n",
      "34\n"
     ]
    }
   ],
   "source": [
    "print(square(3))\n",
    "print(square(4))\n",
    "x = 5\n",
    "y = square(x)\n",
    "print(y)\n",
    "print(square(x) + square(3))"
   ]
  },
  {
   "cell_type": "code",
   "execution_count": 28,
   "metadata": {},
   "outputs": [],
   "source": [
    "#function to get the distance between two points\n",
    "\n",
    "def distance(p1, p2):\n",
    "    dist = math.sqrt(square(p2.getX() - p1.getX()) + square(p2.getY() - p1.getY()))\n",
    "    return dist\n"
   ]
  },
  {
   "cell_type": "code",
   "execution_count": null,
   "metadata": {},
   "outputs": [],
   "source": [
    "# cant run due to graphics library\n",
    "#interactive triangle program from ch4. complete\n",
    "\n",
    "import math\n",
    "from graphics import *\n",
    "\n",
    "def square(x):\n",
    "    return x ** 2\n",
    "\n",
    "def distance(p1, p2):\n",
    "    dist = math.sqrt(square(p2.getX() - p1.getX()) + square(p2.getY() - p1.getY()))\n",
    "    return dist\n",
    "\n",
    "def main():\n",
    "    win = GraphWin(\"Draw a Triangle\")\n",
    "    win.setCoords(0.0, 0.0, 10.0, 10.0)\n",
    "    message = Text(Point(5, 0.5), \"Click on three points\")\n",
    "    message.draw(win)\n",
    "    \n",
    "    #Get and draw three vertices of triangle\n",
    "    p1 = win.getMouse()\n",
    "    p1.draw(win)\n",
    "    p2 = win.getMouse()\n",
    "    p2.draw(win)\n",
    "    p3 = win.getMouse()\n",
    "    p3.draw(win)\n",
    "    \n",
    "    #Calculate the perimeter of the triangle\n",
    "    perim = distance(p1. p2) + distance(p2,p3) + distance(p3, p1)\n",
    "    message.setText(\"The perimeter is: {0:0.2f}\".format(perim))\n",
    "    \n",
    "    #Wait for another click to exit\n",
    "    win.getMouse()\n",
    "    win.close()\n",
    "    \n",
    "main()"
   ]
  },
  {
   "cell_type": "code",
   "execution_count": 29,
   "metadata": {},
   "outputs": [
    {
     "name": "stdout",
     "output_type": "stream",
     "text": [
      "Happy Birthday to you!\n",
      "Happy Birthday to you!\n",
      "Happy birthday, dear Fred.\n",
      "Happy Birthday to you!\n",
      "\n",
      "Happy Birthday to you!\n",
      "Happy Birthday to you!\n",
      "Happy birthday, dear Lucy.\n",
      "Happy Birthday to you!\n",
      "\n",
      "Happy Birthday to you!\n",
      "Happy Birthday to you!\n",
      "Happy birthday, dear Elmer.\n",
      "Happy Birthday to you!\n",
      "\n"
     ]
    }
   ],
   "source": [
    "#Another version of birthday lyrics code\n",
    "\n",
    "def happy():\n",
    "    return \"Happy Birthday to you!\\n\"\n",
    "\n",
    "def verseFor(person):\n",
    "    lyrics = happy()*2 + \"Happy birthday, dear \" + person + \".\\n\" + happy()\n",
    "    return lyrics\n",
    "\n",
    "def main():\n",
    "    for person in [\"Fred\", \"Lucy\", \"Elmer\"]:\n",
    "        print(verseFor(person))\n",
    "        \n",
    "main()"
   ]
  },
  {
   "cell_type": "code",
   "execution_count": 31,
   "metadata": {},
   "outputs": [
    {
     "name": "stdout",
     "output_type": "stream",
     "text": [
      "Please enter two numbers (num1, num2) 2,3\n",
      "The sum is  5.0  and the difference is  -1.0\n"
     ]
    }
   ],
   "source": [
    "#Multiple values being returned\n",
    "def sumDiff(x,y):\n",
    "    summ = x + y\n",
    "    diff = x - y\n",
    "    return summ, diff\n",
    "\n",
    "num1, num2 = input(\"Please enter two numbers (num1, num2) \").split(\",\")\n",
    "s, d = sumDiff(float(num1), float(num2))\n",
    "print(\"The sum is \", s, \" and the difference is \", d)"
   ]
  },
  {
   "cell_type": "code",
   "execution_count": 32,
   "metadata": {},
   "outputs": [
    {
     "name": "stdout",
     "output_type": "stream",
     "text": [
      "[1050.0, 2310.0, 840.0, 378.0]\n"
     ]
    }
   ],
   "source": [
    "def addInterest(balances, rate):\n",
    "    for i in range(len(balances)):\n",
    "        balances[i] = balances[i] * (1 + rate)\n",
    "        \n",
    "def test():\n",
    "    amounts = [1000, 2200, 800, 360]\n",
    "    rate = 0.05\n",
    "    addInterest(amounts, rate)\n",
    "    print(amounts)\n",
    "\n",
    "test()"
   ]
  },
  {
   "cell_type": "markdown",
   "metadata": {},
   "source": [
    "# Chapter 6 Summary\n",
    "\n",
    " - a function is like a subprogram. Programmers use Functions to reduce redundancy, help structure the code, or make it more modular. They can be called several times and each can have its own interchangable parts (parameters). \n",
    " - Formal parameters are ones that are appearing in the function definition. \n",
    " - Actual parameters are ones appearing in the function call\n",
    " - A call to a function initiates a four-step process:\n",
    "    1. The calling program is suspended\n",
    "    2. The values of actual parameters are ssigned to the formal parameters\n",
    "    3. The body of the function is executed\n",
    "    4. Control returns to function call. Value returned by function is used as the expression result\n",
    " - The scope of the variable is the area of program that the variable can be referenced\n",
    "    - Local variables only live in the function/method (its scope)\n",
    " - Functions can communicate back with its caller by using returns. Multiple values can be returned.\n",
    " - Python passes parameters by value. If the value being passed is a mutable object, then changes made to the object may be visible to the caller."
   ]
  }
 ],
 "metadata": {
  "kernelspec": {
   "display_name": "Python 3",
   "language": "python",
   "name": "python3"
  },
  "language_info": {
   "codemirror_mode": {
    "name": "ipython",
    "version": 3
   },
   "file_extension": ".py",
   "mimetype": "text/x-python",
   "name": "python",
   "nbconvert_exporter": "python",
   "pygments_lexer": "ipython3",
   "version": "3.7.1"
  }
 },
 "nbformat": 4,
 "nbformat_minor": 2
}

{
 "cells": [
  {
   "cell_type": "markdown",
   "metadata": {},
   "source": [
    "# Chapter 2 Summary\n",
    "\n",
    "## Steps for writing simple programs:\n",
    "\n",
    "1. Analyze the Problem\n",
    "    Figure out the exact problem and understand it fully.\n",
    "    \n",
    "2. Determine Specifications\n",
    "    Describe exactly what the program will do. Don't worry about how but about the what (what will it do?)\n",
    "\n",
    "3. Create a design\n",
    "    Formulate the overall structure of the program\n",
    "\n",
    "4. Implement the Design\n",
    "    translate design into comp-language and put into computer.\n",
    " \n",
    "5. Test/Debug the Program\n",
    "    Try program through tests, find bugs.\n",
    "\n",
    "6. Maintain the Program\n",
    "    Continue developing program to the needs of the user.\n"
   ]
  },
  {
   "cell_type": "code",
   "execution_count": 1,
   "metadata": {},
   "outputs": [
    {
     "name": "stdout",
     "output_type": "stream",
     "text": [
      "The answer is 7\n"
     ]
    }
   ],
   "source": [
    "print(\"The answer is\", end = \" \");\n",
    "print(3 + 4);"
   ]
  },
  {
   "cell_type": "code",
   "execution_count": 2,
   "metadata": {},
   "outputs": [
    {
     "name": "stdout",
     "output_type": "stream",
     "text": [
      "Please enter a number between 0 and 1: 0\n"
     ]
    }
   ],
   "source": [
    "myInput = eval(input(\"Please enter a number between 0 and 1: \"));\n"
   ]
  },
  {
   "cell_type": "code",
   "execution_count": 3,
   "metadata": {},
   "outputs": [
    {
     "name": "stdout",
     "output_type": "stream",
     "text": [
      "Enter an expression: 3 + 4\n",
      "7\n"
     ]
    }
   ],
   "source": [
    "ans = eval(input(\"Enter an expression: \"));\n",
    "print(ans);"
   ]
  },
  {
   "cell_type": "code",
   "execution_count": 4,
   "metadata": {},
   "outputs": [
    {
     "name": "stdout",
     "output_type": "stream",
     "text": [
      "15 5\n"
     ]
    }
   ],
   "source": [
    "x = 10\n",
    "y = 5\n",
    "mySum, myDiff = x+y, x-y\n",
    "print(mySum, myDiff);"
   ]
  },
  {
   "cell_type": "code",
   "execution_count": 5,
   "metadata": {},
   "outputs": [
    {
     "name": "stdout",
     "output_type": "stream",
     "text": [
      "10 5\n",
      "5 10\n"
     ]
    }
   ],
   "source": [
    "x = 10\n",
    "y = 5\n",
    "\n",
    "print(x,y);\n",
    "\n",
    "x , y = y, x\n",
    "\n",
    "print(x,y);"
   ]
  },
  {
   "cell_type": "code",
   "execution_count": null,
   "metadata": {},
   "outputs": [],
   "source": []
  },
  {
   "cell_type": "code",
   "execution_count": 6,
   "metadata": {},
   "outputs": [
    {
     "name": "stdout",
     "output_type": "stream",
     "text": [
      "this program computes the average of two exam scores.\n",
      "Enter two scores seperated by comma: 55 , 95\n",
      "the average of the scores is:  75.0\n"
     ]
    }
   ],
   "source": [
    "def main():\n",
    "    print(\"this program computes the average of two exam scores.\");\n",
    "    \n",
    "    score1, score2 = eval(input(\"Enter two scores seperated by comma: \"));\n",
    "    average = (score1 + score2) / 2;\n",
    "    \n",
    "    print(\"the average of the scores is: \", average);\n",
    "\n",
    "main();"
   ]
  },
  {
   "cell_type": "code",
   "execution_count": 7,
   "metadata": {},
   "outputs": [
    {
     "name": "stdout",
     "output_type": "stream",
     "text": [
      "0\n",
      "1\n",
      "2\n",
      "3\n",
      "4\n",
      "5\n",
      "6\n",
      "7\n",
      "8\n",
      "9\n"
     ]
    }
   ],
   "source": [
    "for i in range(10):\n",
    "    print(i);"
   ]
  },
  {
   "cell_type": "code",
   "execution_count": 8,
   "metadata": {},
   "outputs": [
    {
     "name": "stdout",
     "output_type": "stream",
     "text": [
      "0\n",
      "1\n",
      "2\n",
      "3\n",
      "4\n"
     ]
    }
   ],
   "source": [
    "for i in [0, 1, 2, 3, 4]:\n",
    "    print(i);"
   ]
  },
  {
   "cell_type": "code",
   "execution_count": 9,
   "metadata": {},
   "outputs": [
    {
     "name": "stdout",
     "output_type": "stream",
     "text": [
      "1\n",
      "9\n",
      "25\n",
      "49\n",
      "81\n"
     ]
    }
   ],
   "source": [
    "for odd in [1, 3, 5, 7, 9]:\n",
    "    print(odd * odd);"
   ]
  },
  {
   "cell_type": "code",
   "execution_count": 11,
   "metadata": {},
   "outputs": [
    {
     "name": "stdout",
     "output_type": "stream",
     "text": [
      "[0, 1, 2, 3, 4, 5, 6, 7, 8, 9]\n"
     ]
    }
   ],
   "source": [
    "x = list(range(10));\n",
    "print(x);"
   ]
  },
  {
   "cell_type": "code",
   "execution_count": 12,
   "metadata": {},
   "outputs": [
    {
     "name": "stdout",
     "output_type": "stream",
     "text": [
      "A program to compute the value of an investment carried 10 years into the future\n",
      "This program calculates the future value of a 10 year investment.\n",
      "Enter the initial principal: 0.1\n",
      "Enter the annual interest rate: 0.3\n",
      "The value in 10 years is:  1.3785849184900003\n"
     ]
    }
   ],
   "source": [
    "print(\"A program to compute the value of an investment carried 10 years into the future\");\n",
    "\n",
    "def main():\n",
    "    print(\"This program calculates the future value of a 10 year investment.\");\n",
    "    \n",
    "    principal = eval(input(\"Enter the initial principal: \"));\n",
    "    apr = eval(input(\"Enter the annual interest rate: \"));\n",
    "    \n",
    "    for i in range(10):\n",
    "        principal = principal * (1+apr);\n",
    "    \n",
    "    print(\"The value in 10 years is: \", principal);\n",
    "\n",
    "main();\n",
    "    "
   ]
  },
  {
   "cell_type": "markdown",
   "metadata": {},
   "source": [
    "# Chapter 2 summary:\n",
    "\n",
    "1. Writing a program requires a systematic approach to problem solving and involves steps (mentioned above ^^^)\n",
    "\n",
    "2. Many simple programs follow the input, process, output (IPO) pattern.\n",
    "\n",
    "3. Programs are composed of statements that are built from identifiers and expressions.\n",
    "\n",
    "4. Identifiers are names; they begin with an underscore or letter which can be followed up. Case sensitive \n",
    "\n",
    "5. Expressions are fragments of code that produce data.\n",
    "    Literals: a representation of a specific value (3 is a literal representation of 3)\n",
    "    Variables: Identifier that stores a value\n",
    "    Operators: Used to combine expressions into more complex ones (like x + 3 * y, operators being + and *)\n",
    "\n",
    "6. Python operators for numbers include the four basic arithmatic operations (+,-,/,*) \n",
    "\n",
    "7. Python output statement 'print' displays the values of a series of expressions to the screen.\n",
    "\n",
    "8. Assigning of a value includes a '='. Lets programs get input from the keyboard. Simultaneous assignemnt is possible too.\n",
    "\n",
    "9. 'eval' function can be used to evaluate user input, but it can be risky/a security hazard for a program.\n",
    "\n",
    "10. Definite loops are loops that execute a known number of times. Python 'for' statement used as a definite loop that iterates through a sequence of values. \n",
    "\n",
    "11. Counted loop is a loop designed specifically for repeating a portion of code a number of times (can be done using the 'for' function). "
   ]
  }
 ],
 "metadata": {
  "kernelspec": {
   "display_name": "Python 3",
   "language": "python",
   "name": "python3"
  },
  "language_info": {
   "codemirror_mode": {
    "name": "ipython",
    "version": 3
   },
   "file_extension": ".py",
   "mimetype": "text/x-python",
   "name": "python",
   "nbconvert_exporter": "python",
   "pygments_lexer": "ipython3",
   "version": "3.7.1"
  }
 },
 "nbformat": 4,
 "nbformat_minor": 2
}

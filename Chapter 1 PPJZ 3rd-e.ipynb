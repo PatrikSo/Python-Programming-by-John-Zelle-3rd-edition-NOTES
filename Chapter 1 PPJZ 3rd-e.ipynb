{
 "cells": [
  {
   "cell_type": "markdown",
   "metadata": {},
   "source": [
    "# Chapter 1 Summary\n",
    "\n",
    "## Key points:\n",
    "\n",
    "1. A computer is a universal information-processing machine. It can carry out any process that can be described in sufficient detail. Description of a sequence of steps for solving a particular problem is called an algorithm. Algorithms can be turned into software (programs) that determines what the hardware doesand can accomplish. Process of creating software is called programming.\n",
    "\n",
    "2. Computer science is the study of what can be computed. Computer scientists use techniques such as design, analysis, and experimentation. CS is a foundation of a broader field of computing which includes areas such as networking, databases, and information management systems.\n",
    "\n",
    "3. CPU is the brain of a computer. Performes simple arithmatic. Info the CPU acts on is stored in the main memory (RAM). More perminent info is stored in secondary info devices (disks, flashdrives, optical devices). Info is put into computer via input devices, output devices display results.\n",
    "\n",
    "4. Programs are written using a formal notation known as programming language. Syntax (form) and semantics (meaning). Computer hardware only understands very low level language known as machine language. Programs are written in high level languages (such as python) for human interperetation. High leveled languages must be compiled or interpreted in order for the computer to understand it. High level languages are more portable than low ones.\n",
    "\n",
    "5. Python is an interperted language. Intereactive shells are good for experiementation. \n",
    "\n",
    "6. A mathematical model is considered chaotic if very small changes in the input lead to large changes in the results (making them seem random or unpredictable). Models of real-world phenomena exhibit choatic behavior, which places some limits on the power of computing."
   ]
  },
  {
   "cell_type": "markdown",
   "metadata": {},
   "source": [
    "Simple printing to consol examples and basic programming arithmetic you can do in Python. Also a loop example."
   ]
  },
  {
   "cell_type": "code",
   "execution_count": 3,
   "metadata": {},
   "outputs": [
    {
     "name": "stdout",
     "output_type": "stream",
     "text": [
      "Hello, World\n"
     ]
    }
   ],
   "source": [
    "print(\"Hello, World\");"
   ]
  },
  {
   "cell_type": "code",
   "execution_count": 2,
   "metadata": {
    "scrolled": true
   },
   "outputs": [
    {
     "name": "stdout",
     "output_type": "stream",
     "text": [
      "Hello World!\n"
     ]
    }
   ],
   "source": [
    "print(\"Hello\",\"World!\");"
   ]
  },
  {
   "cell_type": "code",
   "execution_count": 4,
   "metadata": {},
   "outputs": [
    {
     "name": "stdout",
     "output_type": "stream",
     "text": [
      "3\n"
     ]
    }
   ],
   "source": [
    "print(3);"
   ]
  },
  {
   "cell_type": "code",
   "execution_count": 5,
   "metadata": {},
   "outputs": [
    {
     "name": "stdout",
     "output_type": "stream",
     "text": [
      "3.0\n"
     ]
    }
   ],
   "source": [
    "print(3.0);"
   ]
  },
  {
   "cell_type": "code",
   "execution_count": 6,
   "metadata": {},
   "outputs": [
    {
     "name": "stdout",
     "output_type": "stream",
     "text": [
      "5\n"
     ]
    }
   ],
   "source": [
    "print(2+3);"
   ]
  },
  {
   "cell_type": "code",
   "execution_count": 7,
   "metadata": {},
   "outputs": [
    {
     "name": "stdout",
     "output_type": "stream",
     "text": [
      "5.0\n"
     ]
    }
   ],
   "source": [
    "print(2.0+3.0);"
   ]
  },
  {
   "cell_type": "code",
   "execution_count": 8,
   "metadata": {},
   "outputs": [
    {
     "name": "stdout",
     "output_type": "stream",
     "text": [
      "23\n"
     ]
    }
   ],
   "source": [
    "print(\"2\"+\"3\");"
   ]
  },
  {
   "cell_type": "code",
   "execution_count": 9,
   "metadata": {},
   "outputs": [
    {
     "name": "stdout",
     "output_type": "stream",
     "text": [
      "2+3= 5\n"
     ]
    }
   ],
   "source": [
    "print(\"2 + 3 =\", 2+3);"
   ]
  },
  {
   "cell_type": "code",
   "execution_count": 10,
   "metadata": {},
   "outputs": [
    {
     "name": "stdout",
     "output_type": "stream",
     "text": [
      "6\n"
     ]
    }
   ],
   "source": [
    "print(2*3);"
   ]
  },
  {
   "cell_type": "code",
   "execution_count": 11,
   "metadata": {},
   "outputs": [
    {
     "name": "stdout",
     "output_type": "stream",
     "text": [
      "8\n"
     ]
    }
   ],
   "source": [
    "print(2**3);"
   ]
  },
  {
   "cell_type": "code",
   "execution_count": 12,
   "metadata": {},
   "outputs": [
    {
     "name": "stdout",
     "output_type": "stream",
     "text": [
      "2.3333333333333335\n"
     ]
    }
   ],
   "source": [
    "print(7/3);"
   ]
  },
  {
   "cell_type": "code",
   "execution_count": 13,
   "metadata": {},
   "outputs": [
    {
     "name": "stdout",
     "output_type": "stream",
     "text": [
      "2\n"
     ]
    }
   ],
   "source": [
    "print(7//3);"
   ]
  },
  {
   "cell_type": "code",
   "execution_count": 14,
   "metadata": {},
   "outputs": [
    {
     "name": "stdout",
     "output_type": "stream",
     "text": [
      "Enter a number between 0 and 1: 0.5\n",
      "0.975\n",
      "0.09506250000000008\n",
      "0.33549992226562525\n",
      "0.8694649252590003\n",
      "0.44263310911310905\n",
      "0.962165255336889\n",
      "0.1419727793616139\n",
      "0.4750843861996143\n",
      "0.9725789275369049\n",
      "0.1040097132674683\n"
     ]
    }
   ],
   "source": [
    "#Simple program illustrating chaotic behavior\n",
    "\n",
    "x = eval(input(\"Enter a number between 0 and 1: \"));\n",
    "for i in range(10):\n",
    "    x = 3.9 * x * (1 - x);\n",
    "    print(x);"
   ]
  },
  {
   "cell_type": "code",
   "execution_count": 1,
   "metadata": {},
   "outputs": [
    {
     "name": "stdout",
     "output_type": "stream",
     "text": [
      "Chapter 1 Fun\n"
     ]
    }
   ],
   "source": [
    "print('Chapter 1 Fun')"
   ]
  },
  {
   "cell_type": "code",
   "execution_count": null,
   "metadata": {},
   "outputs": [],
   "source": []
  }
 ],
 "metadata": {
  "kernelspec": {
   "display_name": "Python 3",
   "language": "python",
   "name": "python3"
  },
  "language_info": {
   "codemirror_mode": {
    "name": "ipython",
    "version": 3
   },
   "file_extension": ".py",
   "mimetype": "text/x-python",
   "name": "python",
   "nbconvert_exporter": "python",
   "pygments_lexer": "ipython3",
   "version": "3.7.1"
  }
 },
 "nbformat": 4,
 "nbformat_minor": 2
}
